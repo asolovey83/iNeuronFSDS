{
 "cells": [
  {
   "cell_type": "code",
   "execution_count": 3,
   "id": "a5325edc",
   "metadata": {},
   "outputs": [],
   "source": [
    "a = 10\n",
    "\n",
    "if a == 11:\n",
    "    print(\"this is my first condition\")"
   ]
  },
  {
   "cell_type": "code",
   "execution_count": 5,
   "id": "5f943c43",
   "metadata": {},
   "outputs": [],
   "source": [
    "a = 10\n",
    "if a > 5:\n",
    "    pass"
   ]
  },
  {
   "cell_type": "code",
   "execution_count": 6,
   "id": "ffd109e4",
   "metadata": {},
   "outputs": [
    {
     "name": "stdout",
     "output_type": "stream",
     "text": [
      "print this if condition is true\n"
     ]
    }
   ],
   "source": [
    "a = 10\n",
    "if a > 8:\n",
    "    print(\"print this if condition is true\")"
   ]
  },
  {
   "cell_type": "code",
   "execution_count": 7,
   "id": "842a62be",
   "metadata": {},
   "outputs": [],
   "source": [
    "a = 10\n",
    "if a < 8:\n",
    "    print(\"print this if condition is true\")"
   ]
  },
  {
   "cell_type": "code",
   "execution_count": 8,
   "id": "e57bd518",
   "metadata": {},
   "outputs": [
    {
     "name": "stdout",
     "output_type": "stream",
     "text": [
      "my condition is false\n"
     ]
    }
   ],
   "source": [
    "a = 10\n",
    "if a != 11:\n",
    "    print(\"my condition is false\")\n",
    "else:\n",
    "    print(\"print this\")"
   ]
  },
  {
   "cell_type": "code",
   "execution_count": 9,
   "id": "49bb41c7",
   "metadata": {},
   "outputs": [
    {
     "name": "stdout",
     "output_type": "stream",
     "text": [
      "print this\n"
     ]
    }
   ],
   "source": [
    "a = 10\n",
    "if a == 11:\n",
    "    print(\"my condition is false\")\n",
    "else:\n",
    "    print(\"print this\")"
   ]
  },
  {
   "cell_type": "code",
   "execution_count": 11,
   "id": "7843c8ee",
   "metadata": {},
   "outputs": [
    {
     "name": "stdout",
     "output_type": "stream",
     "text": [
      "we are trying to compare 10 with 11 \n"
     ]
    }
   ],
   "source": [
    "a = 10\n",
    "if a == 12:\n",
    "    print(\"here we are trying to compare 10 with 12\")\n",
    "elif a ==10:\n",
    "    print(\"we are trying to compare 10 with 11 \")\n",
    "else:\n",
    "    print(\"if all the blocks fail then do this\")"
   ]
  },
  {
   "cell_type": "code",
   "execution_count": 15,
   "id": "5be23542",
   "metadata": {},
   "outputs": [
    {
     "name": "stdout",
     "output_type": "stream",
     "text": [
      "I will think to buy or not to buy\n"
     ]
    }
   ],
   "source": [
    "price = 500\n",
    "\n",
    "if price > 500:\n",
    "    print(\"maybe I won`t be able to buy a jacket\")\n",
    "elif price < 500:\n",
    "    print(\"I will be able to buy a jacket\")\n",
    "else:\n",
    "    print(\"I will think to buy or not to buy\")"
   ]
  },
  {
   "cell_type": "code",
   "execution_count": 16,
   "id": "6864e06d",
   "metadata": {},
   "outputs": [
    {
     "name": "stdout",
     "output_type": "stream",
     "text": [
      "I will be able to buy a jacket\n"
     ]
    }
   ],
   "source": [
    "price = 500\n",
    "\n",
    "if price > 500:\n",
    "    print(\"maybe I won`t be able to buy a jacket\")\n",
    "elif price <= 500:\n",
    "    print(\"I will be able to buy a jacket\")"
   ]
  },
  {
   "cell_type": "code",
   "execution_count": 17,
   "id": "b2cd2089",
   "metadata": {},
   "outputs": [
    {
     "ename": "SyntaxError",
     "evalue": "invalid syntax (<ipython-input-17-ee8914edfdf8>, line 7)",
     "output_type": "error",
     "traceback": [
      "\u001b[1;36m  File \u001b[1;32m\"<ipython-input-17-ee8914edfdf8>\"\u001b[1;36m, line \u001b[1;32m7\u001b[0m\n\u001b[1;33m    else price == 500:\u001b[0m\n\u001b[1;37m         ^\u001b[0m\n\u001b[1;31mSyntaxError\u001b[0m\u001b[1;31m:\u001b[0m invalid syntax\n"
     ]
    }
   ],
   "source": [
    "price = 500\n",
    "\n",
    "if price > 500:\n",
    "    print(\"maybe I won`t be able to buy a jacket\")\n",
    "elif price < 500:\n",
    "    print(\"I will be able to buy a jacket\")\n",
    "else price == 500:\n",
    "    print(\"I will think to buy or not to buy\")"
   ]
  },
  {
   "cell_type": "code",
   "execution_count": 18,
   "id": "8034063b",
   "metadata": {},
   "outputs": [],
   "source": [
    "l = [1,2,3,4,5,6]"
   ]
  },
  {
   "cell_type": "code",
   "execution_count": 20,
   "id": "6a2586e0",
   "metadata": {},
   "outputs": [
    {
     "name": "stdout",
     "output_type": "stream",
     "text": [
      "It is in the list\n"
     ]
    }
   ],
   "source": [
    "if 2 in l:\n",
    "    print(\"It is in the list\")\n",
    "else:\n",
    "    print(\"It is not in the list\")"
   ]
  },
  {
   "cell_type": "code",
   "execution_count": 21,
   "id": "8aa6d81b",
   "metadata": {},
   "outputs": [
    {
     "name": "stdout",
     "output_type": "stream",
     "text": [
      "Do addition\n"
     ]
    }
   ],
   "source": [
    "if 2 in l:\n",
    "    print(\"Do addition\")\n",
    "elif 1 in l:\n",
    "    print(\"Do subtraction\")\n",
    "elif 3 in L:\n",
    "    print(\"Do something else\")"
   ]
  },
  {
   "cell_type": "code",
   "execution_count": 22,
   "id": "881f67e4",
   "metadata": {},
   "outputs": [
    {
     "name": "stdout",
     "output_type": "stream",
     "text": [
      "Do subtraction\n"
     ]
    }
   ],
   "source": [
    "if 10 in l:\n",
    "    print(\"Do addition\")\n",
    "elif 1 in l:\n",
    "    print(\"Do subtraction\")\n",
    "elif 3 in L:\n",
    "    print(\"Do something else\")"
   ]
  },
  {
   "cell_type": "code",
   "execution_count": 24,
   "id": "513ff9c4",
   "metadata": {},
   "outputs": [
    {
     "name": "stdout",
     "output_type": "stream",
     "text": [
      "Do subtraction\n",
      "This is a new statement\n"
     ]
    }
   ],
   "source": [
    "if 10 in l:\n",
    "    print(\"Do addition\")\n",
    "elif 1 in l:\n",
    "    print(\"Do subtraction\")\n",
    "elif 3 in L:\n",
    "    print(\"Do something else\")\n",
    "if 4 in l:\n",
    "    print(\"This is a new statement\")"
   ]
  },
  {
   "cell_type": "code",
   "execution_count": 25,
   "id": "7ae72510",
   "metadata": {},
   "outputs": [],
   "source": [
    "a = 400"
   ]
  },
  {
   "cell_type": "code",
   "execution_count": 26,
   "id": "044a71f7",
   "metadata": {},
   "outputs": [
    {
     "name": "stdout",
     "output_type": "stream",
     "text": [
      "45\n"
     ]
    }
   ],
   "source": [
    "b = input()"
   ]
  },
  {
   "cell_type": "code",
   "execution_count": 27,
   "id": "8abae5a1",
   "metadata": {},
   "outputs": [
    {
     "data": {
      "text/plain": [
       "'45'"
      ]
     },
     "execution_count": 27,
     "metadata": {},
     "output_type": "execute_result"
    }
   ],
   "source": [
    "b"
   ]
  },
  {
   "cell_type": "code",
   "execution_count": 28,
   "id": "be63812c",
   "metadata": {},
   "outputs": [
    {
     "name": "stdout",
     "output_type": "stream",
     "text": [
      "34\n"
     ]
    }
   ],
   "source": [
    "b = int(input())"
   ]
  },
  {
   "cell_type": "code",
   "execution_count": 29,
   "id": "bc6987b3",
   "metadata": {},
   "outputs": [
    {
     "data": {
      "text/plain": [
       "34"
      ]
     },
     "execution_count": 29,
     "metadata": {},
     "output_type": "execute_result"
    }
   ],
   "source": [
    "b"
   ]
  },
  {
   "cell_type": "code",
   "execution_count": 37,
   "id": "f8c8efcf",
   "metadata": {},
   "outputs": [
    {
     "name": "stdout",
     "output_type": "stream",
     "text": [
      "500\n",
      "I won`t be able to buy anything here\n"
     ]
    }
   ],
   "source": [
    "price = int(input())\n",
    "\n",
    "if price < 500:\n",
    "    print(\"I will be able to buy something\") \n",
    "    if price < 400:\n",
    "        print(\"I will be able to buy jacket\")\n",
    "    elif price < 300:\n",
    "        print(\"I will ba able to buy shirt\")\n",
    "    else:\n",
    "        print(\"I will buy anything\")\n",
    "else:\n",
    "    print(\"I won`t be able to buy anything here\")\n",
    "    if price > 500:\n",
    "        print(\"let`s try something esle\")"
   ]
  },
  {
   "cell_type": "code",
   "execution_count": 39,
   "id": "686e1994",
   "metadata": {},
   "outputs": [],
   "source": [
    "marks = 400\n",
    "\n",
    "if marks > 600:\n",
    "    print(\"You match for GRE\")\n",
    "elif marks < 600:\n",
    "    if marks > 500:\n",
    "        print(\"You match to TOEFL\")\n",
    "    elif marks < 400:\n",
    "        print(\"You match for something else\")"
   ]
  },
  {
   "cell_type": "code",
   "execution_count": 40,
   "id": "7c6164c4",
   "metadata": {},
   "outputs": [],
   "source": [
    "a = 10\n",
    "\n",
    "if a < 10 or a > 10:\n",
    "    print(\"Print something\")"
   ]
  },
  {
   "cell_type": "code",
   "execution_count": 41,
   "id": "3cf35ef8",
   "metadata": {},
   "outputs": [],
   "source": [
    "a = \"sudh\"\n",
    "\n",
    "if a == \"sudh\" and a == \"Sudh\":\n",
    "    print(\"Print something\")"
   ]
  },
  {
   "cell_type": "code",
   "execution_count": 42,
   "id": "5ac88f96",
   "metadata": {},
   "outputs": [],
   "source": [
    "d = {\"key1\": \"sudh\", \"key2\": \"ineuron\", \"key3\": \"python\"}"
   ]
  },
  {
   "cell_type": "code",
   "execution_count": 43,
   "id": "d9bf8d09",
   "metadata": {},
   "outputs": [
    {
     "name": "stdout",
     "output_type": "stream",
     "text": [
      "All the values are verifies\n",
      "dict_values(['sudh', 'ineuron', 'python'])\n"
     ]
    }
   ],
   "source": [
    "if d[\"key1\"] == \"sudh\" and d[\"key2\"] == \"ineuron\" and d[\"key3\"] == \"python\":\n",
    "    print(\"All the values are verifies\")\n",
    "    print(d.values())    "
   ]
  },
  {
   "cell_type": "code",
   "execution_count": 44,
   "id": "bea6ce7f",
   "metadata": {},
   "outputs": [
    {
     "data": {
      "text/plain": [
       "'sudh'"
      ]
     },
     "execution_count": 44,
     "metadata": {},
     "output_type": "execute_result"
    }
   ],
   "source": [
    "d[\"key1\"]"
   ]
  },
  {
   "cell_type": "code",
   "execution_count": 46,
   "id": "5aec6763",
   "metadata": {},
   "outputs": [
    {
     "name": "stdout",
     "output_type": "stream",
     "text": [
      "2\n",
      "3\n",
      "4\n",
      "5\n",
      "6\n",
      "7\n"
     ]
    }
   ],
   "source": [
    "for i in l:\n",
    "    print(i+1)"
   ]
  },
  {
   "cell_type": "code",
   "execution_count": null,
   "id": "05e87b7d",
   "metadata": {},
   "outputs": [],
   "source": []
  }
 ],
 "metadata": {
  "kernelspec": {
   "display_name": "Python 3",
   "language": "python",
   "name": "python3"
  },
  "language_info": {
   "codemirror_mode": {
    "name": "ipython",
    "version": 3
   },
   "file_extension": ".py",
   "mimetype": "text/x-python",
   "name": "python",
   "nbconvert_exporter": "python",
   "pygments_lexer": "ipython3",
   "version": "3.8.8"
  }
 },
 "nbformat": 4,
 "nbformat_minor": 5
}
