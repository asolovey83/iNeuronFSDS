{
 "cells": [
  {
   "cell_type": "markdown",
   "id": "020667d7",
   "metadata": {},
   "source": [
    "### Lecture assignment from 05 28 2022"
   ]
  },
  {
   "cell_type": "markdown",
   "id": "66a87fd0",
   "metadata": {},
   "source": [
    "<b>Question 1:</b> Print the following text with the for loop\n",
    "ineruon \n",
    "ineruon ineruon \n",
    "ineruon ineruon ineruon\n",
    "ineruon ineruon ineruon ineruon"
   ]
  },
  {
   "cell_type": "code",
   "execution_count": null,
   "id": "2252bf45",
   "metadata": {},
   "outputs": [],
   "source": [
    "ineuron\n",
    "ineuron ineuron\n",
    "ineuron ineuron ineuron\n",
    "ineuron ineuron ineuron ineuron"
   ]
  },
  {
   "cell_type": "markdown",
   "id": "1a0bbb70",
   "metadata": {},
   "source": [
    "<b>Solution 1</b>:"
   ]
  },
  {
   "cell_type": "code",
   "execution_count": 4,
   "id": "1abd8573",
   "metadata": {},
   "outputs": [
    {
     "name": "stdout",
     "output_type": "stream",
     "text": [
      "\n",
      "ineuron \n",
      "ineuron ineuron \n",
      "ineuron ineuron ineuron \n",
      "ineuron ineuron ineuron ineuron \n"
     ]
    }
   ],
   "source": [
    "for i in range(5):   \n",
    "        print(\"ineuron \"*i)"
   ]
  },
  {
   "cell_type": "markdown",
   "id": "1c07b01a",
   "metadata": {},
   "source": [
    "<b>Question 2:</b> Print the following text with the for loop"
   ]
  },
  {
   "cell_type": "markdown",
   "id": "de355dc7",
   "metadata": {},
   "source": [
    "'''       ineruon\n",
    "    ineruon      ineruon\n",
    "ineruon\t\tineruon \tineruon\n",
    "\tineruon\t\t ineruon\n",
    "\t\t  ineruon '''"
   ]
  },
  {
   "cell_type": "markdown",
   "id": "130ea01c",
   "metadata": {},
   "source": [
    "<b>Solution 2:</b>"
   ]
  },
  {
   "cell_type": "code",
   "execution_count": 18,
   "id": "17851205",
   "metadata": {},
   "outputs": [
    {
     "name": "stdout",
     "output_type": "stream",
     "text": [
      "              ineuron       \n",
      "       ineuron       ineuron       \n",
      "ineuron       ineuron       ineuron       \n",
      "       ineuron       ineuron       \n",
      "              ineuron       \n"
     ]
    }
   ],
   "source": [
    "# This was a tough one. Probably there are easier ways to solve this, but I managed to come up with this one:\n",
    "n = 5\n",
    "k = int(n/2)\n",
    "\n",
    "for i in range(n):  \n",
    "    if i <= (n/2):\n",
    "        print((\" \" * (int(n/2) - i)* len('ineuron')) + ('ineuron' + \" \" * len('ineuron'))*(i + 1))\n",
    "    elif i >  (n/2):\n",
    "        print((\" \" * (i - int(n/2)) * len('ineuron')) + ('ineuron' + \" \" * len('ineuron'))*(n - i))"
   ]
  },
  {
   "cell_type": "code",
   "execution_count": 2,
   "id": "7686b584",
   "metadata": {},
   "outputs": [],
   "source": [
    "l = [[1,2,3,4] , (2,3,4,5,6) , (3,4,5,6,7) , set([23,4,5,45,4,4,5,45,45,4,5]) , {'k1' :\"sudh\" , \"k2\" : \"ineuron\",\"k3\":\n",
    "            \"kumar\" , 3:6 , 7:8} , [\"ineuron\" , \"data science \"]]"
   ]
  },
  {
   "cell_type": "markdown",
   "id": "bde6921d",
   "metadata": {},
   "source": [
    "<b>Question 3:</b> Try to extract all the list entities"
   ]
  },
  {
   "cell_type": "markdown",
   "id": "04baeef0",
   "metadata": {},
   "source": [
    "<b>Solution 3:</b>"
   ]
  },
  {
   "cell_type": "code",
   "execution_count": 21,
   "id": "c3be457b",
   "metadata": {},
   "outputs": [
    {
     "name": "stdout",
     "output_type": "stream",
     "text": [
      "[1, 2, 3, 4]\n",
      "['ineuron', 'data science ']\n"
     ]
    }
   ],
   "source": [
    "for i in l:\n",
    "    if type(i) == list:\n",
    "        print(i)"
   ]
  },
  {
   "cell_type": "markdown",
   "id": "bb8ccd04",
   "metadata": {},
   "source": [
    "<b>Question 4:</b> Try to extract all the dict entities"
   ]
  },
  {
   "cell_type": "markdown",
   "id": "ae9e1e52",
   "metadata": {},
   "source": [
    "<b>Solution 4:</b>"
   ]
  },
  {
   "cell_type": "code",
   "execution_count": 24,
   "id": "36d2968b",
   "metadata": {},
   "outputs": [
    {
     "name": "stdout",
     "output_type": "stream",
     "text": [
      "{'k1': 'sudh', 'k2': 'ineuron', 'k3': 'kumar', 3: 6, 7: 8}\n"
     ]
    }
   ],
   "source": [
    "for i in l:\n",
    "    if type(i) == dict:\n",
    "        print(i)"
   ]
  },
  {
   "cell_type": "markdown",
   "id": "54417463",
   "metadata": {},
   "source": [
    "<b>Question 5:</b> Try to extract all the tuples entities"
   ]
  },
  {
   "cell_type": "markdown",
   "id": "ca569c4e",
   "metadata": {},
   "source": [
    "<b>Solution 5:<b>"
   ]
  },
  {
   "cell_type": "code",
   "execution_count": 26,
   "id": "4713e173",
   "metadata": {},
   "outputs": [
    {
     "name": "stdout",
     "output_type": "stream",
     "text": [
      "(2, 3, 4, 5, 6)\n",
      "(3, 4, 5, 6, 7)\n"
     ]
    }
   ],
   "source": [
    "for i in l:\n",
    "    if type(i) == tuple:\n",
    "        print(i)"
   ]
  },
  {
   "cell_type": "markdown",
   "id": "558ae587",
   "metadata": {},
   "source": [
    "<b>Question 6:</b> Try to extract all the numerical data it may b a part of dict key and values"
   ]
  },
  {
   "cell_type": "markdown",
   "id": "726c0375",
   "metadata": {},
   "source": [
    "<b>Solution 6:<b>"
   ]
  },
  {
   "cell_type": "code",
   "execution_count": 30,
   "id": "c27c92c9",
   "metadata": {},
   "outputs": [
    {
     "name": "stdout",
     "output_type": "stream",
     "text": [
      "1\n",
      "2\n",
      "3\n",
      "4\n",
      "2\n",
      "3\n",
      "4\n",
      "5\n",
      "6\n",
      "3\n",
      "4\n",
      "5\n",
      "6\n",
      "7\n",
      "45\n",
      "4\n",
      "5\n",
      "23\n",
      "3\n",
      "7\n",
      "6\n",
      "8\n"
     ]
    }
   ],
   "source": [
    "''' Another tough task. Not sure about the set, in original set there are duplicated values, but the duplicates \n",
    "are obviously ignored. Don`t know if it is possible to get all the duplicates from there'''\n",
    "for item in l:\n",
    "    if type(item) == int or type(item) == float:\n",
    "        print(item)\n",
    "    elif type(item) == list or type(item) == tuple or type(item) == set:\n",
    "        for k in item:\n",
    "            if type(k) == int or type(k) == float:\n",
    "                print(k)\n",
    "    elif type(item) == dict:\n",
    "        for j in list(item.keys()):\n",
    "            if type(j) == int or type(j) == float:\n",
    "                print(j)\n",
    "        for m in list(item.values()):\n",
    "            if type(m) == int or type(m) == float:\n",
    "                print(m)"
   ]
  },
  {
   "cell_type": "markdown",
   "id": "6be14e6a",
   "metadata": {},
   "source": [
    "<b>Question 7:</b> Try to give summation of all the numeric data"
   ]
  },
  {
   "cell_type": "markdown",
   "id": "8c2e530b",
   "metadata": {},
   "source": [
    "<b>Solution 7:</b> "
   ]
  },
  {
   "cell_type": "code",
   "execution_count": 34,
   "id": "24436ca3",
   "metadata": {},
   "outputs": [
    {
     "name": "stdout",
     "output_type": "stream",
     "text": [
      "156\n"
     ]
    }
   ],
   "source": [
    "sum = 0\n",
    "for item in l:\n",
    "    if type(item) == int or type(item) == float:\n",
    "        sum += item\n",
    "    elif type(item) == list or type(item) == tuple or type(item) == set:\n",
    "        for k in item:\n",
    "            if type(k) == int or type(k) == float:\n",
    "                sum += k\n",
    "    elif type(item) == dict:\n",
    "        for j in list(item.keys()):\n",
    "            if type(j) == int or type(j) == float:\n",
    "                sum += j\n",
    "        for m in list(item.values()):\n",
    "            if type(m) == int or type(m) == float:\n",
    "                sum += m\n",
    "print(sum)"
   ]
  },
  {
   "cell_type": "markdown",
   "id": "76eafb75",
   "metadata": {},
   "source": [
    "<b>Question 8:</b> Try to filter out all the odd values out all numeric data which is a part of a list"
   ]
  },
  {
   "cell_type": "markdown",
   "id": "07760e9c",
   "metadata": {},
   "source": [
    "<b>Solution 8:</b>"
   ]
  },
  {
   "cell_type": "code",
   "execution_count": 36,
   "id": "d5b5e5b3",
   "metadata": {},
   "outputs": [
    {
     "name": "stdout",
     "output_type": "stream",
     "text": [
      "1\n",
      "3\n",
      "3\n",
      "5\n",
      "3\n",
      "5\n",
      "7\n",
      "45\n",
      "5\n",
      "23\n",
      "3\n",
      "7\n"
     ]
    }
   ],
   "source": [
    "for item in l:\n",
    "    if type(item) == int or type(item) == float:\n",
    "        if item%2 != 0:\n",
    "            print(item)\n",
    "    elif type(item) == list or type(item) == tuple or type(item) == set:\n",
    "        for k in item:\n",
    "            if type(k) == int or type(k) == float:\n",
    "                if k%2 != 0:\n",
    "                    print(k)\n",
    "    elif type(item) == dict:\n",
    "        for j in list(item.keys()):\n",
    "            if type(j) == int or type(j) == float:\n",
    "                if j%2 != 0:\n",
    "                    print(j)\n",
    "        for m in list(item.values()):\n",
    "            if type(m) == int or type(m) == float:\n",
    "                if m%2 != 0:\n",
    "                    print(m)"
   ]
  },
  {
   "cell_type": "markdown",
   "id": "5eb208b6",
   "metadata": {},
   "source": [
    "<b>Question 9:</b> Try to extract \"ineruon\" out of this data"
   ]
  },
  {
   "cell_type": "markdown",
   "id": "0676678c",
   "metadata": {},
   "source": [
    "<b>Solution 9:</b>"
   ]
  },
  {
   "cell_type": "code",
   "execution_count": 37,
   "id": "4ae0f1f5",
   "metadata": {},
   "outputs": [
    {
     "data": {
      "text/plain": [
       "'ineuron'"
      ]
     },
     "execution_count": 37,
     "metadata": {},
     "output_type": "execute_result"
    }
   ],
   "source": [
    "l[4][\"k2\"]"
   ]
  },
  {
   "cell_type": "code",
   "execution_count": 39,
   "id": "36825f69",
   "metadata": {},
   "outputs": [
    {
     "data": {
      "text/plain": [
       "'ineuron'"
      ]
     },
     "execution_count": 39,
     "metadata": {},
     "output_type": "execute_result"
    }
   ],
   "source": [
    "l[5][0]"
   ]
  },
  {
   "cell_type": "markdown",
   "id": "ab4cc875",
   "metadata": {},
   "source": [
    "<b>Question 10:</b> Try to find out a number of occurances of all the data"
   ]
  },
  {
   "cell_type": "markdown",
   "id": "d3772f0c",
   "metadata": {},
   "source": [
    "<b>Solution 10:</b>"
   ]
  },
  {
   "cell_type": "code",
   "execution_count": 42,
   "id": "317948ca",
   "metadata": {},
   "outputs": [
    {
     "name": "stdout",
     "output_type": "stream",
     "text": [
      "{1: 1, 2: 2, 3: 4, 4: 4, 5: 3, 6: 1, 7: 2, 45: 1, 23: 1, 'k1': 1, 'k2': 1, 'k3': 1, 'sudh': 1, 'ineuron': 2, 'kumar': 1, 8: 1, 'data science ': 1}\n"
     ]
    }
   ],
   "source": [
    "d = {}\n",
    "\n",
    "for item in l:\n",
    "    if type(item) == list or type(item) == set or type(item) == tuple:\n",
    "        for k in item:\n",
    "            if k not in d.keys():\n",
    "                d[k] = 1\n",
    "            else:\n",
    "                d[k] += 1\n",
    "    elif type(item) == dict:\n",
    "        for i in item.keys():         \n",
    "            if i not in d.keys():\n",
    "                d[i] = 1\n",
    "            else:\n",
    "                d[i] += 1\n",
    "        for j in item.values():\n",
    "            if j not in d.values():\n",
    "                d[j] = 1\n",
    "            else:\n",
    "                d[j] += 1                \n",
    "            \n",
    "print(d)\n",
    "                "
   ]
  },
  {
   "cell_type": "markdown",
   "id": "57c24092",
   "metadata": {},
   "source": [
    "<b>Question 11:</b> Try to find out number of keys in dict element"
   ]
  },
  {
   "cell_type": "markdown",
   "id": "418024cb",
   "metadata": {},
   "source": [
    "<b>Solution 11:</b>"
   ]
  },
  {
   "cell_type": "code",
   "execution_count": 44,
   "id": "0bb160f0",
   "metadata": {},
   "outputs": [
    {
     "data": {
      "text/plain": [
       "5"
      ]
     },
     "execution_count": 44,
     "metadata": {},
     "output_type": "execute_result"
    }
   ],
   "source": [
    "len(l[4])"
   ]
  },
  {
   "cell_type": "markdown",
   "id": "f90dc9c5",
   "metadata": {},
   "source": [
    "<b>Question 12:</b> Try to filter out all the string data"
   ]
  },
  {
   "cell_type": "markdown",
   "id": "7e418767",
   "metadata": {},
   "source": [
    "<b>Solution 12:</b>"
   ]
  },
  {
   "cell_type": "code",
   "execution_count": 49,
   "id": "8e6cb412",
   "metadata": {},
   "outputs": [
    {
     "name": "stdout",
     "output_type": "stream",
     "text": [
      "k1\n",
      "k2\n",
      "k3\n",
      "sudh\n",
      "ineuron\n",
      "kumar\n",
      "ineuron\n",
      "data science \n"
     ]
    }
   ],
   "source": [
    "for item in l:\n",
    "    if type(item) == list or type(item) == tuple or type(item) == set:\n",
    "        for k in item:\n",
    "            if type(k) == str:\n",
    "                print(k)\n",
    "    elif type(item) == dict:\n",
    "        for j in list(item.keys()):\n",
    "            if type(j) == str:\n",
    "                print(j)\n",
    "        for m in list(item.values()):\n",
    "            if type(m) == str:\n",
    "                print(m)"
   ]
  },
  {
   "cell_type": "markdown",
   "id": "39411c07",
   "metadata": {},
   "source": [
    "<b>Question 13:</b> Try to Find  out alphanum in data"
   ]
  },
  {
   "cell_type": "markdown",
   "id": "c3c2cede",
   "metadata": {},
   "source": [
    "<b>Solution 13:</b>"
   ]
  },
  {
   "cell_type": "code",
   "execution_count": 3,
   "id": "0f2fc0b6",
   "metadata": {},
   "outputs": [
    {
     "name": "stdout",
     "output_type": "stream",
     "text": [
      "k1\n",
      "k2\n",
      "k3\n",
      "sudh\n",
      "ineuron\n",
      "kumar\n",
      "ineuron\n"
     ]
    }
   ],
   "source": [
    "# Corrected\n",
    "for item in l:\n",
    "    if type(item) == list or type(item) == tuple or type(item) == set:\n",
    "        for k in item:\n",
    "            if type(k) == str and k.isalnum():\n",
    "                print(k)\n",
    "    elif type(item) == dict:\n",
    "        for j in list(item.keys()):\n",
    "            if type(j) == str and j.isalnum():\n",
    "                print(j)\n",
    "        for m in list(item.values()):\n",
    "            if type(m) == str and m.isalnum():\n",
    "                print(m)"
   ]
  },
  {
   "cell_type": "code",
   "execution_count": 51,
   "id": "12c8a32a",
   "metadata": {},
   "outputs": [
    {
     "name": "stdout",
     "output_type": "stream",
     "text": [
      "1\n",
      "2\n",
      "3\n",
      "4\n",
      "2\n",
      "3\n",
      "4\n",
      "5\n",
      "6\n",
      "3\n",
      "4\n",
      "5\n",
      "6\n",
      "7\n",
      "45\n",
      "4\n",
      "5\n",
      "23\n",
      "k1\n",
      "k2\n",
      "k3\n",
      "3\n",
      "7\n",
      "sudh\n",
      "ineuron\n",
      "kumar\n",
      "6\n",
      "8\n",
      "ineuron\n"
     ]
    }
   ],
   "source": [
    "# Initial\n",
    "for item in l:\n",
    "    if type(item) == int or type(item) == float:\n",
    "        print(item)\n",
    "    elif type(item) == list or type(item) == tuple or type(item) == set:\n",
    "        for k in item:\n",
    "            if type(k) == int or type(k) == float or (type(k) == str and k.isalnum()):\n",
    "                print(k)\n",
    "    elif type(item) == dict:\n",
    "        for j in list(item.keys()):\n",
    "            if type(j) == int or type(j) == float or (type(j) == str and j.isalnum()):\n",
    "                print(j)\n",
    "        for m in list(item.values()):\n",
    "            if type(m) == int or type(m) == float or (type(m) == str and m.isalnum()):\n",
    "                print(m)    "
   ]
  },
  {
   "cell_type": "markdown",
   "id": "0c216ef3",
   "metadata": {},
   "source": [
    "<b>Question 14:</b> Try to find out multiplication of all numeric value in  the individual collection inside dataset "
   ]
  },
  {
   "cell_type": "markdown",
   "id": "0fa13c9f",
   "metadata": {},
   "source": [
    "<b>Solutiuon 14</b>"
   ]
  },
  {
   "cell_type": "code",
   "execution_count": 59,
   "id": "1795b1ab",
   "metadata": {},
   "outputs": [
    {
     "name": "stdout",
     "output_type": "stream",
     "text": [
      "The list item is [1, 2, 3, 4], the multiplication of its items is 24\n",
      "The list item is (2, 3, 4, 5, 6), the multiplication of its items is 720\n",
      "The list item is (3, 4, 5, 6, 7), the multiplication of its items is 2520\n",
      "The list item is {45, 4, 5, 23}, the multiplication of its items is 20700\n",
      "The list item is {'k1': 'sudh', 'k2': 'ineuron', 'k3': 'kumar', 3: 6, 7: 8}, the multiplication of its items is 1008\n"
     ]
    }
   ],
   "source": [
    "for item in l: \n",
    "    mult = 1\n",
    "    if type(item) == set or type(item)==list or type(item)==tuple:\n",
    "        for n in item:\n",
    "            if type(n) == int or type(n) == float:\n",
    "                mult *= n\n",
    "        if mult > 1:\n",
    "            print(f\"The list item is {item}, the multiplication of its items is {mult}\")\n",
    "    elif type(item) == dict:\n",
    "        for j in list(item.keys()):\n",
    "            if type(j) == int or type(j) == float:\n",
    "                mult *= j\n",
    "        for m in list(item.values()):\n",
    "            if type(m) == int or type(m) == float:\n",
    "                mult *= m        \n",
    "        print(f\"The list item is {item}, the multiplication of its items is {mult}\")                   "
   ]
  },
  {
   "cell_type": "markdown",
   "id": "46ed24de",
   "metadata": {},
   "source": [
    "<b>Question 15:</b> Try to unwrape all the collection inside collection and create a flat list"
   ]
  },
  {
   "cell_type": "markdown",
   "id": "04d76a2e",
   "metadata": {},
   "source": [
    "<b>Solution 15</b>:"
   ]
  },
  {
   "cell_type": "code",
   "execution_count": 63,
   "id": "a88964cf",
   "metadata": {},
   "outputs": [
    {
     "name": "stdout",
     "output_type": "stream",
     "text": [
      "[1, 2, 3, 4, 2, 3, 4, 5, 6, 3, 4, 5, 6, 7, 45, 4, 5, 23, 'k1', 'k2', 'k3', 3, 7, 'sudh', 'ineuron', 'kumar', 6, 8, 'ineuron', 'data science ']\n"
     ]
    }
   ],
   "source": [
    "l1 = []\n",
    "\n",
    "for item in l:\n",
    "    if type(item) == list or type(item) == tuple or type(item) == set:\n",
    "        for k in item:\n",
    "            l1.append(k)            \n",
    "    elif type(item) == dict:\n",
    "        for j in list(item.keys()):\n",
    "            l1.append(j)\n",
    "        for m in list(item.values()):\n",
    "            l1.append(m)\n",
    "print(l1)"
   ]
  },
  {
   "cell_type": "code",
   "execution_count": null,
   "id": "9627bf22",
   "metadata": {},
   "outputs": [],
   "source": []
  }
 ],
 "metadata": {
  "kernelspec": {
   "display_name": "Python 3",
   "language": "python",
   "name": "python3"
  },
  "language_info": {
   "codemirror_mode": {
    "name": "ipython",
    "version": 3
   },
   "file_extension": ".py",
   "mimetype": "text/x-python",
   "name": "python",
   "nbconvert_exporter": "python",
   "pygments_lexer": "ipython3",
   "version": "3.8.8"
  }
 },
 "nbformat": 4,
 "nbformat_minor": 5
}
