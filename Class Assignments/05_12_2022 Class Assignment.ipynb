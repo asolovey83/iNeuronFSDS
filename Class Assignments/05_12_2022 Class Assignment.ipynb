{
 "cells": [
  {
   "cell_type": "code",
   "execution_count": null,
   "id": "789b2b11",
   "metadata": {},
   "outputs": [],
   "source": [
    "#### Assignment:\n",
    "'''s = \"this is My First Python programming class and i am learNING python string and its function\"\n",
    "1 . Try to extract data from index one to index 300 with a jump of 3 \n",
    "2. Try to reverse a string without using reverse function \n",
    "3. Try to split a string after conversion of entire string in uppercase \n",
    "4. try to convert the whole string into lower case \n",
    "5 . Try to capitalize the whole string \n",
    "6 . Write a diference between isalnum() and isalpha()\n",
    "7. Try to give an example of expand tab\n",
    "8 . Give an example of strip , lstrip and rstrip \n",
    "9.  Replace a string charecter by another charector by taking your own example \n",
    "\"sudhanshu\"\n",
    "10 . Try  to give a defination of string center function with and exmple \n",
    "11 . Write your own definition of compiler and interpretor without copy paste form internet in your own language\n",
    "12 . Python is a interpreted of compiled language give a clear ans with your understanding \n",
    "13 . Try to write a usecase of python with your understanding .\n",
    "\n",
    "\n",
    "you have to send a jupyter notebook to shivan@ineuron.ai before next saturday class 21st of may.'''"
   ]
  },
  {
   "cell_type": "code",
   "execution_count": 4,
   "id": "7ceee532",
   "metadata": {},
   "outputs": [],
   "source": [
    "s = \"this is My First Python programming class and i am learNING python string and its function\""
   ]
  },
  {
   "cell_type": "markdown",
   "id": "d01822a6",
   "metadata": {},
   "source": [
    "#### 1. Try to extract data from index one to index 300 with a jump of 3 "
   ]
  },
  {
   "cell_type": "code",
   "execution_count": 5,
   "id": "94247438",
   "metadata": {},
   "outputs": [
    {
     "data": {
      "text/plain": [
       "'h   r tnrrmglsnimeNGyosi dtfco'"
      ]
     },
     "execution_count": 5,
     "metadata": {},
     "output_type": "execute_result"
    }
   ],
   "source": [
    "#It`s not clear though from the task whether index 300 is included or not. I assume it is included\n",
    "\n",
    "s[1:301:3]     "
   ]
  },
  {
   "cell_type": "markdown",
   "id": "37284837",
   "metadata": {},
   "source": [
    "#### 2. Try to reverse a string without using reverse function "
   ]
  },
  {
   "cell_type": "code",
   "execution_count": 6,
   "id": "eb4961ed",
   "metadata": {},
   "outputs": [
    {
     "data": {
      "text/plain": [
       "'noitcnuf sti dna gnirts nohtyp GNINrael ma i dna ssalc gnimmargorp nohtyP tsriF yM si siht'"
      ]
     },
     "execution_count": 6,
     "metadata": {},
     "output_type": "execute_result"
    }
   ],
   "source": [
    "s[::-1]"
   ]
  },
  {
   "cell_type": "markdown",
   "id": "fbfb2c9e",
   "metadata": {},
   "source": [
    "#### 3. Try to split a string after conversion of entire string in uppercase "
   ]
  },
  {
   "cell_type": "code",
   "execution_count": 7,
   "id": "fcfb5150",
   "metadata": {},
   "outputs": [
    {
     "data": {
      "text/plain": [
       "['THIS',\n",
       " 'IS',\n",
       " 'MY',\n",
       " 'FIRST',\n",
       " 'PYTHON',\n",
       " 'PROGRAMMING',\n",
       " 'CLASS',\n",
       " 'AND',\n",
       " 'I',\n",
       " 'AM',\n",
       " 'LEARNING',\n",
       " 'PYTHON',\n",
       " 'STRING',\n",
       " 'AND',\n",
       " 'ITS',\n",
       " 'FUNCTION']"
      ]
     },
     "execution_count": 7,
     "metadata": {},
     "output_type": "execute_result"
    }
   ],
   "source": [
    "s.upper().split(\" \")"
   ]
  },
  {
   "cell_type": "markdown",
   "id": "2e788ccf",
   "metadata": {},
   "source": [
    "#### 4. Try to convert the whole string into lower case"
   ]
  },
  {
   "cell_type": "code",
   "execution_count": 8,
   "id": "35274d60",
   "metadata": {},
   "outputs": [
    {
     "data": {
      "text/plain": [
       "'this is my first python programming class and i am learning python string and its function'"
      ]
     },
     "execution_count": 8,
     "metadata": {},
     "output_type": "execute_result"
    }
   ],
   "source": [
    "s.lower()"
   ]
  },
  {
   "cell_type": "markdown",
   "id": "13ef53f1",
   "metadata": {},
   "source": [
    "#### 5. Try to capitalize the whole string"
   ]
  },
  {
   "cell_type": "code",
   "execution_count": 9,
   "id": "10abad78",
   "metadata": {},
   "outputs": [
    {
     "data": {
      "text/plain": [
       "'This is my first python programming class and i am learning python string and its function'"
      ]
     },
     "execution_count": 9,
     "metadata": {},
     "output_type": "execute_result"
    }
   ],
   "source": [
    "s.capitalize()"
   ]
  },
  {
   "cell_type": "markdown",
   "id": "62a8b17f",
   "metadata": {},
   "source": [
    "#### ...or another solution depending on what is meant by \"capitalizing of the whole string\""
   ]
  },
  {
   "cell_type": "code",
   "execution_count": 10,
   "id": "c010fd3c",
   "metadata": {},
   "outputs": [
    {
     "data": {
      "text/plain": [
       "'This Is My First Python Programming Class And I Am Learning Python String And Its Function'"
      ]
     },
     "execution_count": 10,
     "metadata": {},
     "output_type": "execute_result"
    }
   ],
   "source": [
    "s.title()"
   ]
  },
  {
   "cell_type": "markdown",
   "id": "48ce1806",
   "metadata": {},
   "source": [
    "#### 6 . Write a diference between isalnum() and isalpha()\n",
    "<b>isalpha()</b> method checks whether all the characters in the string are alphabet letters, while <b>isalnum()</b> allows not only alphabet letters, but also numbers from 0-9"
   ]
  },
  {
   "cell_type": "markdown",
   "id": "2b062473",
   "metadata": {},
   "source": [
    "#### 7. Try to give an example of expand tab"
   ]
  },
  {
   "cell_type": "code",
   "execution_count": 11,
   "id": "f5445555",
   "metadata": {},
   "outputs": [
    {
     "data": {
      "text/plain": [
       "'My name  is Andrew'"
      ]
     },
     "execution_count": 11,
     "metadata": {},
     "output_type": "execute_result"
    }
   ],
   "source": [
    "# This is the example of code, however, I can`t come up with any practical use case. I will appreciate it if you explain\n",
    "s1 = 'My\\tname\\tis\\tAndrew'\n",
    "s1.expandtabs(3)"
   ]
  },
  {
   "cell_type": "markdown",
   "id": "4a729c74",
   "metadata": {},
   "source": [
    "#### 8 . Give an example of strip , lstrip and rstrip "
   ]
  },
  {
   "cell_type": "code",
   "execution_count": 12,
   "id": "bcef3359",
   "metadata": {},
   "outputs": [
    {
     "data": {
      "text/plain": [
       "'titanic'"
      ]
     },
     "execution_count": 12,
     "metadata": {},
     "output_type": "execute_result"
    }
   ],
   "source": [
    "#lstrip\n",
    "sl = \" titanic\"\n",
    "sl.lstrip()"
   ]
  },
  {
   "cell_type": "code",
   "execution_count": 13,
   "id": "e8697bef",
   "metadata": {},
   "outputs": [
    {
     "data": {
      "text/plain": [
       "'titanic'"
      ]
     },
     "execution_count": 13,
     "metadata": {},
     "output_type": "execute_result"
    }
   ],
   "source": [
    "#rstrip\n",
    "sr = \"titanic \"\n",
    "sr.rstrip()"
   ]
  },
  {
   "cell_type": "code",
   "execution_count": 14,
   "id": "c109a539",
   "metadata": {},
   "outputs": [
    {
     "data": {
      "text/plain": [
       "'titanic'"
      ]
     },
     "execution_count": 14,
     "metadata": {},
     "output_type": "execute_result"
    }
   ],
   "source": [
    "#strip\n",
    "sc = \" titanic \"\n",
    "sc.strip()"
   ]
  },
  {
   "cell_type": "markdown",
   "id": "5f539213",
   "metadata": {},
   "source": [
    "#### 9.  Replace a string character by another character by taking your own example"
   ]
  },
  {
   "cell_type": "code",
   "execution_count": 15,
   "id": "843c8aab",
   "metadata": {},
   "outputs": [
    {
     "data": {
      "text/plain": [
       "'Cython'"
      ]
     },
     "execution_count": 15,
     "metadata": {},
     "output_type": "execute_result"
    }
   ],
   "source": [
    "s = \"Python\"\n",
    "s.replace(\"P\", \"C\")"
   ]
  },
  {
   "cell_type": "markdown",
   "id": "eb4f0368",
   "metadata": {},
   "source": [
    "#### 10 . Try  to give a defination of string center function with an example"
   ]
  },
  {
   "cell_type": "markdown",
   "id": "1e93c3ef",
   "metadata": {},
   "source": [
    "The fucntion <b>string center</b> takes the argument which is passed to it as a length of the resulting string. Then it displays resulting string where the word to which the function is applied is placed exactly in the middle. Please, see the example below, though, I can't figure out the practical use case for this function"
   ]
  },
  {
   "cell_type": "code",
   "execution_count": 16,
   "id": "091c37c1",
   "metadata": {},
   "outputs": [
    {
     "data": {
      "text/plain": [
       "'                      Python                      '"
      ]
     },
     "execution_count": 16,
     "metadata": {},
     "output_type": "execute_result"
    }
   ],
   "source": [
    "s = \"Python\"\n",
    "s.center(50)"
   ]
  },
  {
   "cell_type": "markdown",
   "id": "f60ca442",
   "metadata": {},
   "source": [
    "#### 11 . Write your own definition of compiler and interpreter without copy paste form internet in your own language"
   ]
  },
  {
   "cell_type": "markdown",
   "id": "fddbcba1",
   "metadata": {},
   "source": [
    "Both interpeter and compiler serve the same purpose, in particular, they're used to convert high-level human readable code into machine executable code. The difference between the compiler and interpreter is that compiler converts the whole code into a machine code and only after that executes it, when interpreter executes the code line by line."
   ]
  },
  {
   "cell_type": "markdown",
   "id": "94328f89",
   "metadata": {},
   "source": [
    "#### 12 . Python is an interpreted of compiled language give a clear answer with your understanding"
   ]
  },
  {
   "cell_type": "markdown",
   "id": "26720823",
   "metadata": {},
   "source": [
    "My understanding is that Python is an interpreted language. It doesn't generate any object code directly like Java does for example. However, at the same time the Python code is still compiled to a byte code, just under the hood. We don't need to call a special command for compilation"
   ]
  },
  {
   "cell_type": "markdown",
   "id": "c7abd69e",
   "metadata": {},
   "source": [
    "#### 13 . Try to write a usecase of python with your understanding."
   ]
  },
  {
   "cell_type": "markdown",
   "id": "1ba53c11",
   "metadata": {},
   "source": [
    "Python as an interpreted language is fast to develop, but not fast to execute. These Python features make me think that it may be quite useful for some POCs or startup projects, when you have to develop an MVP to validate quick enough and you don't have to think about scalability, maintainability and other \"ilities\" at the moment"
   ]
  },
  {
   "cell_type": "code",
   "execution_count": null,
   "id": "93711457",
   "metadata": {},
   "outputs": [],
   "source": []
  }
 ],
 "metadata": {
  "kernelspec": {
   "display_name": "Python 3",
   "language": "python",
   "name": "python3"
  },
  "language_info": {
   "codemirror_mode": {
    "name": "ipython",
    "version": 3
   },
   "file_extension": ".py",
   "mimetype": "text/x-python",
   "name": "python",
   "nbconvert_exporter": "python",
   "pygments_lexer": "ipython3",
   "version": "3.8.8"
  }
 },
 "nbformat": 4,
 "nbformat_minor": 5
}
