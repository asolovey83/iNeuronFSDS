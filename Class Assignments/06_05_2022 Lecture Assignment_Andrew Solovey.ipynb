{
 "cells": [
  {
   "cell_type": "markdown",
   "id": "cba57470",
   "metadata": {},
   "source": [
    "## Lecture assignment from 05 06 2022"
   ]
  },
  {
   "cell_type": "markdown",
   "id": "a4bfdaf9",
   "metadata": {},
   "source": [
    "<b>Question 1:</b> Try to print a prime numbers in between 1 to 1000"
   ]
  },
  {
   "cell_type": "markdown",
   "id": "7dd311ef",
   "metadata": {},
   "source": [
    "<b>Solution 1:</b>"
   ]
  },
  {
   "cell_type": "code",
   "execution_count": 15,
   "id": "fca12de6",
   "metadata": {},
   "outputs": [
    {
     "name": "stdout",
     "output_type": "stream",
     "text": [
      "3\n",
      "5\n",
      "7\n",
      "11\n",
      "13\n",
      "17\n",
      "19\n",
      "23\n",
      "29\n",
      "31\n",
      "37\n",
      "41\n",
      "43\n",
      "47\n",
      "53\n",
      "59\n",
      "61\n",
      "67\n",
      "71\n",
      "73\n",
      "79\n",
      "83\n",
      "89\n",
      "97\n",
      "101\n",
      "103\n",
      "107\n",
      "109\n",
      "113\n",
      "127\n",
      "131\n",
      "137\n",
      "139\n",
      "149\n",
      "151\n",
      "157\n",
      "163\n",
      "167\n",
      "173\n",
      "179\n",
      "181\n",
      "191\n",
      "193\n",
      "197\n",
      "199\n",
      "211\n",
      "223\n",
      "227\n",
      "229\n",
      "233\n",
      "239\n",
      "241\n",
      "251\n",
      "257\n",
      "263\n",
      "269\n",
      "271\n",
      "277\n",
      "281\n",
      "283\n",
      "293\n",
      "307\n",
      "311\n",
      "313\n",
      "317\n",
      "331\n",
      "337\n",
      "347\n",
      "349\n",
      "353\n",
      "359\n",
      "367\n",
      "373\n",
      "379\n",
      "383\n",
      "389\n",
      "397\n",
      "401\n",
      "409\n",
      "419\n",
      "421\n",
      "431\n",
      "433\n",
      "439\n",
      "443\n",
      "449\n",
      "457\n",
      "461\n",
      "463\n",
      "467\n",
      "479\n",
      "487\n",
      "491\n",
      "499\n",
      "503\n",
      "509\n",
      "521\n",
      "523\n",
      "541\n",
      "547\n",
      "557\n",
      "563\n",
      "569\n",
      "571\n",
      "577\n",
      "587\n",
      "593\n",
      "599\n",
      "601\n",
      "607\n",
      "613\n",
      "617\n",
      "619\n",
      "631\n",
      "641\n",
      "643\n",
      "647\n",
      "653\n",
      "659\n",
      "661\n",
      "673\n",
      "677\n",
      "683\n",
      "691\n",
      "701\n",
      "709\n",
      "719\n",
      "727\n",
      "733\n",
      "739\n",
      "743\n",
      "751\n",
      "757\n",
      "761\n",
      "769\n",
      "773\n",
      "787\n",
      "797\n",
      "809\n",
      "811\n",
      "821\n",
      "823\n",
      "827\n",
      "829\n",
      "839\n",
      "853\n",
      "857\n",
      "859\n",
      "863\n",
      "877\n",
      "881\n",
      "883\n",
      "887\n",
      "907\n",
      "911\n",
      "919\n",
      "929\n",
      "937\n",
      "941\n",
      "947\n",
      "953\n",
      "967\n",
      "971\n",
      "977\n",
      "983\n",
      "991\n",
      "997\n"
     ]
    }
   ],
   "source": [
    "for i in range(1, 1001):  \n",
    "    flag = False\n",
    "    \n",
    "    if i == 1 or i == 2:\n",
    "        continue\n",
    "    else:\n",
    "        for n in range(2, i):\n",
    "            if i%n == 0:\n",
    "                flag = True\n",
    "                break\n",
    "    if flag == False:\n",
    "        print(i)"
   ]
  },
  {
   "cell_type": "markdown",
   "id": "38b432c1",
   "metadata": {},
   "source": [
    "<b>Question 2:</b> Try to write a function which  is equivalent  to print function in python"
   ]
  },
  {
   "cell_type": "markdown",
   "id": "d320ecfa",
   "metadata": {},
   "source": [
    "<b>Solution 2:</b>"
   ]
  },
  {
   "cell_type": "code",
   "execution_count": 22,
   "id": "03e82731",
   "metadata": {},
   "outputs": [],
   "source": [
    "def my_print(obj):\n",
    "    return str(obj)"
   ]
  },
  {
   "cell_type": "code",
   "execution_count": 23,
   "id": "3531d18e",
   "metadata": {},
   "outputs": [
    {
     "data": {
      "text/plain": [
       "'4'"
      ]
     },
     "execution_count": 23,
     "metadata": {},
     "output_type": "execute_result"
    }
   ],
   "source": [
    "my_print(4)"
   ]
  },
  {
   "cell_type": "code",
   "execution_count": 25,
   "id": "04bbfa78",
   "metadata": {},
   "outputs": [
    {
     "data": {
      "text/plain": [
       "'2.65'"
      ]
     },
     "execution_count": 25,
     "metadata": {},
     "output_type": "execute_result"
    }
   ],
   "source": [
    "my_print(2.65)"
   ]
  },
  {
   "cell_type": "code",
   "execution_count": 26,
   "id": "cf914211",
   "metadata": {},
   "outputs": [
    {
     "data": {
      "text/plain": [
       "'sudh'"
      ]
     },
     "execution_count": 26,
     "metadata": {},
     "output_type": "execute_result"
    }
   ],
   "source": [
    "my_print('sudh')"
   ]
  },
  {
   "cell_type": "markdown",
   "id": "ebed270c",
   "metadata": {},
   "source": [
    "<b>Question 3:</b> Try to write a function which is a replica of list append , extend and pop function"
   ]
  },
  {
   "cell_type": "markdown",
   "id": "ec7af244",
   "metadata": {},
   "source": [
    "<b>Solution 3:</b>"
   ]
  },
  {
   "cell_type": "code",
   "execution_count": 54,
   "id": "3c2ab61c",
   "metadata": {},
   "outputs": [],
   "source": [
    "#  Append\n",
    "def my_append(l, lastitem):\n",
    "    new_dict = {}\n",
    "    \n",
    "    for item in l:\n",
    "        new_dict[item] = type(item)\n",
    "        \n",
    "    new_dict[lastitem] = type(lastitem)       \n",
    "    \n",
    "    return list([type(x)(x)for x in new_dict.keys()])"
   ]
  },
  {
   "cell_type": "code",
   "execution_count": 55,
   "id": "81faf3f4",
   "metadata": {},
   "outputs": [],
   "source": [
    "l = [2,\"sudh\",4.25]"
   ]
  },
  {
   "cell_type": "code",
   "execution_count": 56,
   "id": "d51a4d65",
   "metadata": {},
   "outputs": [
    {
     "data": {
      "text/plain": [
       "[2, 'sudh', 4.25, 'dsdas']"
      ]
     },
     "execution_count": 56,
     "metadata": {},
     "output_type": "execute_result"
    }
   ],
   "source": [
    "my_append(l, \"dsdas\")"
   ]
  },
  {
   "cell_type": "code",
   "execution_count": 57,
   "id": "9a7147ee",
   "metadata": {},
   "outputs": [],
   "source": [
    "#  Extend\n",
    "def my_extend (l, m):        \n",
    "    \n",
    "    return l + list(m)"
   ]
  },
  {
   "cell_type": "code",
   "execution_count": 58,
   "id": "97d6f060",
   "metadata": {},
   "outputs": [],
   "source": [
    "l1 = [2,\"sudh\",4.25]"
   ]
  },
  {
   "cell_type": "code",
   "execution_count": 59,
   "id": "db5d3f54",
   "metadata": {},
   "outputs": [],
   "source": [
    "l2 = [84, \"asdasdas\"]"
   ]
  },
  {
   "cell_type": "code",
   "execution_count": 60,
   "id": "e9604e80",
   "metadata": {},
   "outputs": [
    {
     "data": {
      "text/plain": [
       "[2, 'sudh', 4.25, 84, 'asdasdas']"
      ]
     },
     "execution_count": 60,
     "metadata": {},
     "output_type": "execute_result"
    }
   ],
   "source": [
    "my_extend (l1, l2)"
   ]
  },
  {
   "cell_type": "code",
   "execution_count": 71,
   "id": "4ddb914a",
   "metadata": {},
   "outputs": [],
   "source": [
    "#  Pop\n",
    "def my_pop(l, index):\n",
    "    new_dict = {}    \n",
    "    \n",
    "    for i in range(0, len(l)):\n",
    "        if i == index:\n",
    "            return l[i]\n",
    "        else:\n",
    "            new_dict[l[i]] = type(l[i])      \n",
    "         \n",
    "    \n",
    "    return list([type(x)(x)for x in new_dict.keys()])"
   ]
  },
  {
   "cell_type": "code",
   "execution_count": 72,
   "id": "ed1a2649",
   "metadata": {},
   "outputs": [],
   "source": [
    "l3 = [2,\"sudh\",4.25, 4.25, 84, 'asdasdas']"
   ]
  },
  {
   "cell_type": "code",
   "execution_count": 73,
   "id": "580c50f5",
   "metadata": {},
   "outputs": [
    {
     "data": {
      "text/plain": [
       "84"
      ]
     },
     "execution_count": 73,
     "metadata": {},
     "output_type": "execute_result"
    }
   ],
   "source": [
    "my_pop(l3, 4)"
   ]
  },
  {
   "cell_type": "markdown",
   "id": "0f831d69",
   "metadata": {},
   "source": [
    "<b>Question 4:</b> Try to write a lambda function which can return a concatination of all the string that we will pass"
   ]
  },
  {
   "cell_type": "markdown",
   "id": "98ed0f58",
   "metadata": {},
   "source": [
    "<b>Solution 4:</b>"
   ]
  },
  {
   "cell_type": "code",
   "execution_count": 21,
   "id": "b99a96a1",
   "metadata": {},
   "outputs": [],
   "source": [
    "finstr = lambda text: ''.join(text)"
   ]
  },
  {
   "cell_type": "code",
   "execution_count": 22,
   "id": "468bed7e",
   "metadata": {},
   "outputs": [
    {
     "data": {
      "text/plain": [
       "'sudhsdasdastext3'"
      ]
     },
     "execution_count": 22,
     "metadata": {},
     "output_type": "execute_result"
    }
   ],
   "source": [
    "finstr([\"sudh\", \"sdasdas\", \"text3\"])"
   ]
  },
  {
   "cell_type": "markdown",
   "id": "1c1ffe0e",
   "metadata": {},
   "source": [
    "<b>Question 5:</b> Try to write a lambda function which can return list of square of all the data between 1-100"
   ]
  },
  {
   "cell_type": "markdown",
   "id": "b0a4229c",
   "metadata": {},
   "source": [
    "<b>Solution 5:</b>"
   ]
  },
  {
   "cell_type": "code",
   "execution_count": 19,
   "id": "c675e093",
   "metadata": {},
   "outputs": [
    {
     "data": {
      "text/plain": [
       "[1,\n",
       " 4,\n",
       " 9,\n",
       " 16,\n",
       " 25,\n",
       " 36,\n",
       " 49,\n",
       " 64,\n",
       " 81,\n",
       " 100,\n",
       " 121,\n",
       " 144,\n",
       " 169,\n",
       " 196,\n",
       " 225,\n",
       " 256,\n",
       " 289,\n",
       " 324,\n",
       " 361,\n",
       " 400,\n",
       " 441,\n",
       " 484,\n",
       " 529,\n",
       " 576,\n",
       " 625,\n",
       " 676,\n",
       " 729,\n",
       " 784,\n",
       " 841,\n",
       " 900,\n",
       " 961,\n",
       " 1024,\n",
       " 1089,\n",
       " 1156,\n",
       " 1225,\n",
       " 1296,\n",
       " 1369,\n",
       " 1444,\n",
       " 1521,\n",
       " 1600,\n",
       " 1681,\n",
       " 1764,\n",
       " 1849,\n",
       " 1936,\n",
       " 2025,\n",
       " 2116,\n",
       " 2209,\n",
       " 2304,\n",
       " 2401,\n",
       " 2500,\n",
       " 2601,\n",
       " 2704,\n",
       " 2809,\n",
       " 2916,\n",
       " 3025,\n",
       " 3136,\n",
       " 3249,\n",
       " 3364,\n",
       " 3481,\n",
       " 3600,\n",
       " 3721,\n",
       " 3844,\n",
       " 3969,\n",
       " 4096,\n",
       " 4225,\n",
       " 4356,\n",
       " 4489,\n",
       " 4624,\n",
       " 4761,\n",
       " 4900,\n",
       " 5041,\n",
       " 5184,\n",
       " 5329,\n",
       " 5476,\n",
       " 5625,\n",
       " 5776,\n",
       " 5929,\n",
       " 6084,\n",
       " 6241,\n",
       " 6400,\n",
       " 6561,\n",
       " 6724,\n",
       " 6889,\n",
       " 7056,\n",
       " 7225,\n",
       " 7396,\n",
       " 7569,\n",
       " 7744,\n",
       " 7921,\n",
       " 8100,\n",
       " 8281,\n",
       " 8464,\n",
       " 8649,\n",
       " 8836,\n",
       " 9025,\n",
       " 9216,\n",
       " 9409,\n",
       " 9604,\n",
       " 9801,\n",
       " 10000]"
      ]
     },
     "execution_count": 19,
     "metadata": {},
     "output_type": "execute_result"
    }
   ],
   "source": [
    "[x*x for x in range(1, 101)]"
   ]
  },
  {
   "cell_type": "markdown",
   "id": "e284e991",
   "metadata": {},
   "source": [
    "<b>Question 6:</b> Try to write a 10 different example of lambda function with a choice of your task"
   ]
  },
  {
   "cell_type": "markdown",
   "id": "64f78fc0",
   "metadata": {},
   "source": [
    "<b>Solution 6:</b>"
   ]
  },
  {
   "cell_type": "code",
   "execution_count": 40,
   "id": "71f7b41f",
   "metadata": {},
   "outputs": [
    {
     "data": {
      "text/plain": [
       "10"
      ]
     },
     "execution_count": 40,
     "metadata": {},
     "output_type": "execute_result"
    }
   ],
   "source": [
    "#Example 1\n",
    "double = lambda x: x * 2\n",
    "double(5)"
   ]
  },
  {
   "cell_type": "code",
   "execution_count": 41,
   "id": "8703db61",
   "metadata": {},
   "outputs": [
    {
     "data": {
      "text/plain": [
       "(2, 3, 4, 5, 6)"
      ]
     },
     "execution_count": 41,
     "metadata": {},
     "output_type": "execute_result"
    }
   ],
   "source": [
    "#Example 2\n",
    "t = lambda *x: x\n",
    "t(2,3,4,5,6)"
   ]
  },
  {
   "cell_type": "code",
   "execution_count": 46,
   "id": "0ea883ef",
   "metadata": {},
   "outputs": [
    {
     "data": {
      "text/plain": [
       "[4, 9, 16, 25, 36]"
      ]
     },
     "execution_count": 46,
     "metadata": {},
     "output_type": "execute_result"
    }
   ],
   "source": [
    "#Example 3\n",
    "t1 = lambda x: [i**2 for i in x]\n",
    "t1([2,3,4,5,6])"
   ]
  },
  {
   "cell_type": "code",
   "execution_count": 47,
   "id": "f87e1617",
   "metadata": {},
   "outputs": [
    {
     "data": {
      "text/plain": [
       "6"
      ]
     },
     "execution_count": 47,
     "metadata": {},
     "output_type": "execute_result"
    }
   ],
   "source": [
    "#Example 4\n",
    "t2 = lambda x, y: x + y\n",
    "t2(2, 4)"
   ]
  },
  {
   "cell_type": "code",
   "execution_count": 48,
   "id": "1d5793e7",
   "metadata": {},
   "outputs": [
    {
     "data": {
      "text/plain": [
       "3"
      ]
     },
     "execution_count": 48,
     "metadata": {},
     "output_type": "execute_result"
    }
   ],
   "source": [
    "#Example 5\n",
    "t3 = lambda x, y, c: x + y - c\n",
    "t3(2, 4, 3)"
   ]
  },
  {
   "cell_type": "code",
   "execution_count": 50,
   "id": "59357832",
   "metadata": {},
   "outputs": [
    {
     "name": "stdout",
     "output_type": "stream",
     "text": [
      "[2, 4, 6, 8, 10, 12]\n"
     ]
    }
   ],
   "source": [
    "#Example 6\n",
    "my_list = [1, 2, 3, 4, 5, 6]\n",
    "new_list = list(map(lambda x: x*2, my_list))\n",
    "print(new_list) "
   ]
  },
  {
   "cell_type": "code",
   "execution_count": 51,
   "id": "882574a9",
   "metadata": {},
   "outputs": [
    {
     "name": "stdout",
     "output_type": "stream",
     "text": [
      "[18, 5, 12]\n"
     ]
    }
   ],
   "source": [
    "#Example 7\n",
    "my_list = [18, -3, 5, 0, -1, 12]\n",
    "new_list = list(filter(lambda x: x > 0, my_list))\n",
    "print(new_list)"
   ]
  },
  {
   "cell_type": "code",
   "execution_count": 52,
   "id": "66cc8748",
   "metadata": {},
   "outputs": [
    {
     "name": "stdout",
     "output_type": "stream",
     "text": [
      "[4, 8, 12]\n"
     ]
    }
   ],
   "source": [
    "#Example 8\n",
    "number = [1,2,3,5,4,6,8,9,11,12]\n",
    "multiples_of_4 = list(filter(lambda a: (a%4 == 0) ,number))\n",
    "print(multiples_of_4)"
   ]
  },
  {
   "cell_type": "code",
   "execution_count": 56,
   "id": "a1fe1411",
   "metadata": {},
   "outputs": [
    {
     "name": "stdout",
     "output_type": "stream",
     "text": [
      "some kind of a useless lambda\n"
     ]
    }
   ],
   "source": [
    "#Example 9\n",
    "x=\"some kind of a useless lambda\"\n",
    "useless = (lambda x : print(x))\n",
    "useless(x)"
   ]
  },
  {
   "cell_type": "code",
   "execution_count": 54,
   "id": "52d9e02e",
   "metadata": {},
   "outputs": [
    {
     "name": "stdout",
     "output_type": "stream",
     "text": [
      "120\n"
     ]
    }
   ],
   "source": [
    "#Example 10\n",
    "from functools import reduce\n",
    "sequences = [1,2,3,4,5]\n",
    "product = reduce (lambda x, y: x*y, sequences)\n",
    "print(product)"
   ]
  },
  {
   "cell_type": "markdown",
   "id": "d5df0711",
   "metadata": {},
   "source": [
    "<b>Question 7:</b> Try to write a funtion which can perform a read operation from .txt file"
   ]
  },
  {
   "cell_type": "markdown",
   "id": "4a097602",
   "metadata": {},
   "source": [
    "<b>Solution 7:</b>"
   ]
  },
  {
   "cell_type": "code",
   "execution_count": 34,
   "id": "ede304f2",
   "metadata": {},
   "outputs": [],
   "source": [
    "def read_txt(file):\n",
    "    with open(file, 'r') as f:\n",
    "        contents = f.read()\n",
    "        print(contents)"
   ]
  },
  {
   "cell_type": "code",
   "execution_count": 35,
   "id": "8755984d",
   "metadata": {},
   "outputs": [
    {
     "name": "stdout",
     "output_type": "stream",
     "text": [
      "This is the first line\n",
      "This is the second line\n",
      "This is the third line\n"
     ]
    }
   ],
   "source": [
    "read_txt(\"sample_txt.txt\")"
   ]
  },
  {
   "cell_type": "code",
   "execution_count": null,
   "id": "63b609e3",
   "metadata": {},
   "outputs": [],
   "source": []
  }
 ],
 "metadata": {
  "kernelspec": {
   "display_name": "Python 3",
   "language": "python",
   "name": "python3"
  },
  "language_info": {
   "codemirror_mode": {
    "name": "ipython",
    "version": 3
   },
   "file_extension": ".py",
   "mimetype": "text/x-python",
   "name": "python",
   "nbconvert_exporter": "python",
   "pygments_lexer": "ipython3",
   "version": "3.8.8"
  }
 },
 "nbformat": 4,
 "nbformat_minor": 5
}
