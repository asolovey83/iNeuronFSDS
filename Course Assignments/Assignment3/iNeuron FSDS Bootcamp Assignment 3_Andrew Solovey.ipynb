{
 "cells": [
  {
   "cell_type": "markdown",
   "id": "e5fed890",
   "metadata": {},
   "source": [
    "## Assignment 3 Andrew Solovey"
   ]
  },
  {
   "cell_type": "markdown",
   "id": "561c0b63",
   "metadata": {},
   "source": [
    "<b>Question 1:</b> Why are functions advantageous to have in your programs?"
   ]
  },
  {
   "cell_type": "markdown",
   "id": "14bde855",
   "metadata": {},
   "source": [
    "<b>Answer 1:</b> Functions allow us to avoid code redundancy and unnecessary duplication. They also allow us to better structure the code and simplify debugging"
   ]
  },
  {
   "cell_type": "markdown",
   "id": "79d64656",
   "metadata": {},
   "source": [
    "<b>Question 2:</b> When does the code in a function run: when it's specified or when it's called?"
   ]
  },
  {
   "cell_type": "markdown",
   "id": "ce5b3f34",
   "metadata": {},
   "source": [
    "<b>Answer 2:</b> My understanding is that the code in fucntion runs when the function is called"
   ]
  },
  {
   "cell_type": "markdown",
   "id": "c111cc2a",
   "metadata": {},
   "source": [
    "<b>Question 3:</b> What statement creates a function?"
   ]
  },
  {
   "cell_type": "markdown",
   "id": "ddedfc56",
   "metadata": {},
   "source": [
    "<b>Answer 3:</b> The function in Python is created with the following statement: <b>def function_name</b>"
   ]
  },
  {
   "cell_type": "markdown",
   "id": "f5b2719e",
   "metadata": {},
   "source": [
    "<b>Question 4:</b> What is the difference between a function and a function call?"
   ]
  },
  {
   "cell_type": "markdown",
   "id": "e4a3efa8",
   "metadata": {},
   "source": [
    "<b>Answer 4:</b> The function is basically the description of the logic that should be executed, and the function call is a command that executes this particular logic. Without function call, nothing will be executed."
   ]
  },
  {
   "cell_type": "markdown",
   "id": "f24841e6",
   "metadata": {},
   "source": [
    "<b>Question 5:</b> How many global scopes are there in a Python program? How many local scopes?"
   ]
  },
  {
   "cell_type": "markdown",
   "id": "62208842",
   "metadata": {},
   "source": [
    "<b>Answer 5:</b> My understanding is that there is only one global scope in Python program. As for the local scopes there may be as many as the number of separate code blocks that created."
   ]
  },
  {
   "cell_type": "code",
   "execution_count": null,
   "id": "bdb23840",
   "metadata": {},
   "outputs": [],
   "source": []
  }
 ],
 "metadata": {
  "kernelspec": {
   "display_name": "Python 3",
   "language": "python",
   "name": "python3"
  },
  "language_info": {
   "codemirror_mode": {
    "name": "ipython",
    "version": 3
   },
   "file_extension": ".py",
   "mimetype": "text/x-python",
   "name": "python",
   "nbconvert_exporter": "python",
   "pygments_lexer": "ipython3",
   "version": "3.8.8"
  }
 },
 "nbformat": 4,
 "nbformat_minor": 5
}
