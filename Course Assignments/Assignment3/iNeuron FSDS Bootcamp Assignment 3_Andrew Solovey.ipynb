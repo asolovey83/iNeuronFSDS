{
 "cells": [
  {
   "cell_type": "markdown",
   "id": "e5fed890",
   "metadata": {},
   "source": [
    "## Assignment 3 Andrew Solovey"
   ]
  },
  {
   "cell_type": "markdown",
   "id": "561c0b63",
   "metadata": {},
   "source": [
    "<b>Question 1:</b> Why are functions advantageous to have in your programs?"
   ]
  },
  {
   "cell_type": "markdown",
   "id": "14bde855",
   "metadata": {},
   "source": [
    "<b>Answer 1:</b> Functions allow us to avoid code redundancy and unnecessary duplication. They also allow us to better structure the code and simplify debugging"
   ]
  },
  {
   "cell_type": "markdown",
   "id": "79d64656",
   "metadata": {},
   "source": [
    "<b>Question 2:</b> When does the code in a function run: when it's specified or when it's called?"
   ]
  },
  {
   "cell_type": "markdown",
   "id": "ce5b3f34",
   "metadata": {},
   "source": [
    "<b>Answer 2:</b> My understanding is that the code in fucntion runs when the function is called"
   ]
  },
  {
   "cell_type": "markdown",
   "id": "c111cc2a",
   "metadata": {},
   "source": [
    "<b>Question 3:</b> What statement creates a function?"
   ]
  },
  {
   "cell_type": "markdown",
   "id": "ddedfc56",
   "metadata": {},
   "source": [
    "<b>Answer 3:</b> The function in Python is created with the following statement: <b>def function_name</b>"
   ]
  },
  {
   "cell_type": "markdown",
   "id": "f5b2719e",
   "metadata": {},
   "source": [
    "<b>Question 4:</b> What is the difference between a function and a function call?"
   ]
  },
  {
   "cell_type": "markdown",
   "id": "e4a3efa8",
   "metadata": {},
   "source": [
    "<b>Answer 4:</b> The function is basically the description of the logic that should be executed, and the function call is a command that executes this particular logic. Without function call, nothing will be executed."
   ]
  },
  {
   "cell_type": "markdown",
   "id": "f24841e6",
   "metadata": {},
   "source": [
    "<b>Question 5:</b> How many global scopes are there in a Python program? How many local scopes?"
   ]
  },
  {
   "cell_type": "markdown",
   "id": "62208842",
   "metadata": {},
   "source": [
    "<b>Answer 5:</b> My understanding is that there is only one global scope in Python program. As for the local scopes there may be as many as the number of separate code blocks that created."
   ]
  },
  {
   "cell_type": "markdown",
   "id": "132c0239",
   "metadata": {},
   "source": [
    "<b>Question 6:</b> What happens to variables in a local scope when the function call returns?"
   ]
  },
  {
   "cell_type": "markdown",
   "id": "d20279ee",
   "metadata": {},
   "source": [
    "<b>Answer 6:</b> When the function call returns the local variables are destroyed"
   ]
  },
  {
   "cell_type": "markdown",
   "id": "59da407c",
   "metadata": {},
   "source": [
    "<b>Question 7:</b> What is the concept of a return value? Is it possible to have a return value in an expression?"
   ]
  },
  {
   "cell_type": "markdown",
   "id": "5039e9ae",
   "metadata": {},
   "source": [
    "<b>Answer 7:</b> The return statement is used to return the result of execution of the function to its caller. In this case the caller variable will be assigned a value of the expression that goes after the return statement in the function. The return statement can't be used outside of the function thus it's not possible to have a return statement in an expression."
   ]
  },
  {
   "cell_type": "markdown",
   "id": "476404c1",
   "metadata": {},
   "source": [
    "<b>Question 8:</b> If a function does not have a return statement, what is the return value of a call to that function?"
   ]
  },
  {
   "cell_type": "markdown",
   "id": "9ee077bd",
   "metadata": {},
   "source": [
    "<b>Answer 8:</b> The return value of the fucntion without return statement is None."
   ]
  },
  {
   "cell_type": "markdown",
   "id": "f0e4272f",
   "metadata": {},
   "source": [
    "<b>Question 9:</b> How do you make a function variable refer to the global variable?"
   ]
  },
  {
   "cell_type": "markdown",
   "id": "48805f27",
   "metadata": {},
   "source": [
    "<b>Answer 9:</b> By using a \"global\" keyword before the name of the variable"
   ]
  },
  {
   "cell_type": "markdown",
   "id": "88242441",
   "metadata": {},
   "source": [
    "<b>Question 10:</b> What is the data type of None?"
   ]
  },
  {
   "cell_type": "markdown",
   "id": "590a421f",
   "metadata": {},
   "source": [
    "<b>Answer 10:</b> It is a NoneType"
   ]
  },
  {
   "cell_type": "markdown",
   "id": "a89993fa",
   "metadata": {},
   "source": [
    "<b>Question 11:</b> What does the sentence import areallyourpetsnamederic do?"
   ]
  },
  {
   "cell_type": "markdown",
   "id": "9b2c2045",
   "metadata": {},
   "source": [
    "<b>Answer 11:</b> It imports an external library to the existing application and enables using this library objects and methods in the code of the app"
   ]
  },
  {
   "cell_type": "markdown",
   "id": "9dbc8009",
   "metadata": {},
   "source": [
    "<b>Question 12:</b> If you had a bacon() feature in a spam module, what would you call it after importing spam?"
   ]
  },
  {
   "cell_type": "markdown",
   "id": "5b45ab6d",
   "metadata": {},
   "source": [
    "<b>Answer 12:</b> "
   ]
  },
  {
   "cell_type": "raw",
   "id": "ce26d812",
   "metadata": {},
   "source": [
    "spam.bacon()"
   ]
  },
  {
   "cell_type": "markdown",
   "id": "b0bef2f3",
   "metadata": {},
   "source": [
    "<b>Question 13:</b> What can you do to save a programme from crashing if it encounters an error?"
   ]
  },
  {
   "cell_type": "markdown",
   "id": "c73d5ae6",
   "metadata": {},
   "source": [
    "<b>Answer 13:</b> I believe I can use exception handling with the help of try-except block"
   ]
  },
  {
   "cell_type": "markdown",
   "id": "58778284",
   "metadata": {},
   "source": [
    "<b>Question 14:</b> What is the purpose of the try clause? What is the purpose of the except clause?"
   ]
  },
  {
   "cell_type": "markdown",
   "id": "44e88680",
   "metadata": {},
   "source": [
    "<b>Answer 14:</b> The purpose of the try clause is to run the main logic of the code block. The purpose of the except clause is to run the code that allows to handle any exceptions or errors that occured (close the program gracefully, without data loss or any other negative consequences)"
   ]
  },
  {
   "cell_type": "code",
   "execution_count": null,
   "id": "deb8dcc8",
   "metadata": {},
   "outputs": [],
   "source": []
  }
 ],
 "metadata": {
  "kernelspec": {
   "display_name": "Python 3",
   "language": "python",
   "name": "python3"
  },
  "language_info": {
   "codemirror_mode": {
    "name": "ipython",
    "version": 3
   },
   "file_extension": ".py",
   "mimetype": "text/x-python",
   "name": "python",
   "nbconvert_exporter": "python",
   "pygments_lexer": "ipython3",
   "version": "3.8.8"
  }
 },
 "nbformat": 4,
 "nbformat_minor": 5
}
