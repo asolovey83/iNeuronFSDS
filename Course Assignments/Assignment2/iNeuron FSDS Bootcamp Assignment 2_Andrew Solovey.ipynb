{
 "cells": [
  {
   "cell_type": "markdown",
   "id": "47294978",
   "metadata": {},
   "source": [
    "## Assignment 2 Andrew Solovey"
   ]
  },
  {
   "cell_type": "markdown",
   "id": "731a16d7",
   "metadata": {},
   "source": [
    "<b>Question 1</b> What are the two values of the Boolean data type? How do you write them?"
   ]
  },
  {
   "cell_type": "markdown",
   "id": "0f7275f9",
   "metadata": {},
   "source": [
    "<b>Answer 1:</b> The two values of the Boolean data type are True and False. We're writing them with the starting caputal letter"
   ]
  },
  {
   "cell_type": "markdown",
   "id": "205575d0",
   "metadata": {},
   "source": [
    "<b>Question 2</b> What are the three different types of Boolean operators?"
   ]
  },
  {
   "cell_type": "markdown",
   "id": "ccce4c0e",
   "metadata": {},
   "source": [
    "<b>Answer 2:</b> The three types of Boolean operators are \"and\", \"or\", \"not\""
   ]
  },
  {
   "cell_type": "markdown",
   "id": "de381055",
   "metadata": {},
   "source": [
    "<b>Question 3</b> . Make a list of each Boolean operator's truth tables (i.e. every possible combination of Boolean values for the operator and what it evaluate )."
   ]
  },
  {
   "cell_type": "markdown",
   "id": "6d3a5d0e",
   "metadata": {},
   "source": [
    "<b>Answer 3</b>:\n",
    "\n",
    "True and True = True<br>\n",
    "True and False = False<br>\n",
    "False and False = False<br>\n",
    "True or True = True<br>\n",
    "True or False = True<br>\n",
    "False or False = False<br>\n",
    "not False = True<br>\n",
    "not True = False<br>"
   ]
  },
  {
   "cell_type": "markdown",
   "id": "fbfa60ef",
   "metadata": {},
   "source": [
    "<b>Question 4</b> What are the values of the following expressions?<br>\n",
    "\n",
    "(5 > 4) and (3 == 5)<br>\n",
    "not (5 > 4)<br>\n",
    "(5 > 4) or (3 == 5)<br>\n",
    "not ((5 > 4) or (3 == 5))<br>\n",
    "(True and True) and (True == False)<br>\n",
    "(not False) or (not True)"
   ]
  },
  {
   "cell_type": "markdown",
   "id": "b641fe04",
   "metadata": {},
   "source": [
    "<b>Answer 4:</b><br>\n",
    "\n",
    "(5 > 4) and (3 == 5) = False<br>\n",
    "not (5 > 4) = False<br>\n",
    "(5 > 4) or (3 == 5) = True<br>\n",
    "not ((5 > 4) or (3 == 5)) = False<br>\n",
    "(True and True) and (True == False) = False\n",
    "(not False) or (not True) = True"
   ]
  },
  {
   "cell_type": "markdown",
   "id": "f84e5e08",
   "metadata": {},
   "source": [
    "<b>Question 5</b> What are the six comparison operators?"
   ]
  },
  {
   "cell_type": "markdown",
   "id": "84edd7e3",
   "metadata": {},
   "source": [
    "<b>Answer 5:</b><br>\n",
    "    \n",
    "The six comparison operators are the following >, <, >=, <=, ==, !="
   ]
  },
  {
   "cell_type": "markdown",
   "id": "d0bb4b7d",
   "metadata": {},
   "source": [
    "<b>Question 6</b> How do you tell the difference between the equal to and assignment operators?Describe a condition and when you would use one."
   ]
  },
  {
   "cell_type": "markdown",
   "id": "9c901ece",
   "metadata": {},
   "source": [
    "<b>Answer 6:</b><br>\n",
    "\n",
    "The assignment operator in Python is the following \"=\", and the equal to operator is the following \"==\". We use assignment operator when we assign a value to the variable and we use equal to operator when we are comparing two variables or values in condiutional statement."
   ]
  },
  {
   "cell_type": "markdown",
   "id": "c84e6d83",
   "metadata": {},
   "source": [
    "<b>Question 7</b> Identify the three blocks in this code:"
   ]
  },
  {
   "cell_type": "raw",
   "id": "e2f13400",
   "metadata": {},
   "source": [
    "spam = 0\n",
    "if spam == 10:\n",
    "print('eggs')\n",
    "if spam > 5:\n",
    "print('bacon')\n",
    "else:\n",
    "print('ham')\n",
    "print('spam')\n",
    "print('spam')\n"
   ]
  },
  {
   "cell_type": "markdown",
   "id": "c57f79d1",
   "metadata": {},
   "source": [
    "<b>Answer 7</b>:"
   ]
  },
  {
   "cell_type": "code",
   "execution_count": 1,
   "id": "c69bc766",
   "metadata": {},
   "outputs": [
    {
     "name": "stdout",
     "output_type": "stream",
     "text": [
      "ham\n",
      "spam\n",
      "spam\n"
     ]
    }
   ],
   "source": [
    "spam = 0 #block 1\n",
    "if spam == 10:    #block 2\n",
    "    print('eggs')\n",
    "if spam > 5:      #block 3\n",
    "    print('bacon')\n",
    "else:\n",
    "    print('ham')\n",
    "print('spam')\n",
    "print('spam')"
   ]
  },
  {
   "cell_type": "markdown",
   "id": "4a7f08d6",
   "metadata": {},
   "source": [
    "<b>Question 8</b> Write code that prints Hello if 1 is stored in spam, prints Howdy if 2 is stored in spam, and prints Greetings! if anything else is stored in spam."
   ]
  },
  {
   "cell_type": "markdown",
   "id": "943d3baa",
   "metadata": {},
   "source": [
    "<b>Answer 8</b>:"
   ]
  },
  {
   "cell_type": "code",
   "execution_count": 2,
   "id": "a90922c4",
   "metadata": {},
   "outputs": [
    {
     "name": "stdout",
     "output_type": "stream",
     "text": [
      "Please, enter what you`d like to store in 'spam: '3\n",
      "Greetings! \n"
     ]
    }
   ],
   "source": [
    "spam = int(input(\"Please, enter what you`d like to store in 'spam: '\"))\n",
    "\n",
    "if spam == 1:\n",
    "    print(\"Hello\")\n",
    "elif spam == 2:\n",
    "    print(\"Howdy\")\n",
    "else:\n",
    "    print(\"Greetings! \")"
   ]
  },
  {
   "cell_type": "markdown",
   "id": "7ddd7193",
   "metadata": {},
   "source": [
    "<b>Question 9</b> If your programme is stuck in an endless loop, what keys you’ll press?"
   ]
  },
  {
   "cell_type": "markdown",
   "id": "56620109",
   "metadata": {},
   "source": [
    "<b>Answer 9</b>: If we are talking about Jupyter Notebook, the key combination is double \"i\""
   ]
  },
  {
   "cell_type": "markdown",
   "id": "e8d05441",
   "metadata": {},
   "source": [
    "<b>Question 10</b> How can you tell the difference between break and continue?"
   ]
  },
  {
   "cell_type": "markdown",
   "id": "bafb3e88",
   "metadata": {},
   "source": [
    "<b>Answer 10</b>: The \"break\" command completely terminates the loop, when the \"continue\" command terminates the current iteration and continues the loop fromk the next iteration"
   ]
  },
  {
   "cell_type": "markdown",
   "id": "ce4d5aa1",
   "metadata": {},
   "source": [
    "<b>Question 11</b>: In a for loop, what is the difference between range(10), range(0, 10), and range(0, 10, 1)?"
   ]
  },
  {
   "cell_type": "markdown",
   "id": "58a22324",
   "metadata": {},
   "source": [
    "<b>Answer 11</b>: Basically all the three examples are doing the same - iterating within the range from 0 to 10 (excluding 10). So the difference is only in syntax"
   ]
  },
  {
   "cell_type": "markdown",
   "id": "16cbc60b",
   "metadata": {},
   "source": [
    "<b>Question 12</b>: Write a short program that prints the numbers 1 to 10 using a for loop. Then write an equivalent program that prints the numbers 1 to 10 using a while loop."
   ]
  },
  {
   "cell_type": "markdown",
   "id": "3a7923c2",
   "metadata": {},
   "source": [
    "<b>Answer 12</b>:"
   ]
  },
  {
   "cell_type": "code",
   "execution_count": 10,
   "id": "83999235",
   "metadata": {},
   "outputs": [
    {
     "name": "stdout",
     "output_type": "stream",
     "text": [
      "1\n",
      "2\n",
      "3\n",
      "4\n",
      "5\n",
      "6\n",
      "7\n",
      "8\n",
      "9\n",
      "10\n"
     ]
    }
   ],
   "source": [
    "# For loop\n",
    "for i in range (1, 11):\n",
    "    print(i)"
   ]
  },
  {
   "cell_type": "code",
   "execution_count": 11,
   "id": "c2979dba",
   "metadata": {},
   "outputs": [
    {
     "name": "stdout",
     "output_type": "stream",
     "text": [
      "1\n",
      "2\n",
      "3\n",
      "4\n",
      "5\n",
      "6\n",
      "7\n",
      "8\n",
      "9\n",
      "10\n"
     ]
    }
   ],
   "source": [
    "# While loop\n",
    "i = 1\n",
    "while i <= 10:\n",
    "    print(i)\n",
    "    i+=1"
   ]
  },
  {
   "cell_type": "markdown",
   "id": "061c9f68",
   "metadata": {},
   "source": [
    "<b>Question 13</b>: . If you had a function named bacon() inside a module named spam, how would you call it after importing spam?"
   ]
  },
  {
   "cell_type": "markdown",
   "id": "a8c7a0c4",
   "metadata": {},
   "source": [
    "<b>Answer 13</b>:"
   ]
  },
  {
   "cell_type": "raw",
   "id": "f45a2fda",
   "metadata": {},
   "source": [
    "# Option 1\n",
    "\n",
    "from spam import bacon\n",
    "\n",
    "c = bacon()"
   ]
  },
  {
   "cell_type": "raw",
   "id": "d978247a",
   "metadata": {},
   "source": [
    "# Option 2\n",
    "\n",
    "import spam\n",
    "\n",
    "c = spam.bacon()"
   ]
  },
  {
   "cell_type": "code",
   "execution_count": null,
   "id": "302c9371",
   "metadata": {},
   "outputs": [],
   "source": []
  }
 ],
 "metadata": {
  "kernelspec": {
   "display_name": "Python 3",
   "language": "python",
   "name": "python3"
  },
  "language_info": {
   "codemirror_mode": {
    "name": "ipython",
    "version": 3
   },
   "file_extension": ".py",
   "mimetype": "text/x-python",
   "name": "python",
   "nbconvert_exporter": "python",
   "pygments_lexer": "ipython3",
   "version": "3.8.8"
  }
 },
 "nbformat": 4,
 "nbformat_minor": 5
}
