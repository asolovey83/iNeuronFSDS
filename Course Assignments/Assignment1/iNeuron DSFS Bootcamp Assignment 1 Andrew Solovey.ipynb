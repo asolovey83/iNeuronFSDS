{
 "cells": [
  {
   "cell_type": "markdown",
   "id": "72558290",
   "metadata": {},
   "source": [
    "## Assignment 1"
   ]
  },
  {
   "cell_type": "markdown",
   "id": "f8f93b92",
   "metadata": {},
   "source": [
    "<b>Question 1</b> In the below elements which of them are values or an expression? eg:- values can be integer or string and expressions will be mathematical operators. *,  'hello',  -87.8,  - ,  / ,  +,  6 <br><br>\n",
    "\n",
    "<b>Answer 1</b><br> Values are: 'hello', -87.8, 6 <br> Operators are: *, -, /, = <br> Also, I believe there are no expressions there "
   ]
  },
  {
   "cell_type": "markdown",
   "id": "20e46f66",
   "metadata": {},
   "source": [
    "<b>Question 2</b> What is the difference between string and variable? <br><br>\n",
    "\n",
    "<b>Answer 2</b> String is a data type that stores the sequence of characters, variable is an instance that represents a value that can change. The variable can store any data type including the string"
   ]
  },
  {
   "cell_type": "markdown",
   "id": "afb07e40",
   "metadata": {},
   "source": [
    "<b>Question 3</b> Describe three different data types <br><br>\n",
    "\n",
    "<b>Answer 3</b><br> 1. Float is a data type which is used to store continuos numbers, numbers with a floating point <br> 2. Boolean is a data type which is used to store two logical Boolean values - True and False <br> 3. List - is data type which is intended to store a sequence of elements"
   ]
  },
  {
   "cell_type": "markdown",
   "id": "5fbe6c52",
   "metadata": {},
   "source": [
    "<b>Question 4</b> What is an expression made up for? What do all expressions do?<br><br>\n",
    "\n",
    "<b>Answer 4</b><br> The expressions are intended to perform mathematical and logical operations on variables"
   ]
  },
  {
   "cell_type": "markdown",
   "id": "208cb9c8",
   "metadata": {},
   "source": [
    "<b>Question 5</b> This assignment statements, like spam = 10. What is the difference between an expression and a statement?<br><br>\n",
    "\n",
    "<b>Answer 5</b><br> Expression is a combinations of variables, literals and operations that returns some value. The statement on the other hand can be anything that constitutes a line of code (or several lines). Statements can take a form of expression."
   ]
  },
  {
   "cell_type": "markdown",
   "id": "45523a5f",
   "metadata": {},
   "source": [
    "<b>Question 6 </b>After running the following code, what does the variable bacon contain?<br><br>\n",
    "bacon = 22 <br>\n",
    "bacon + 1 <br><br>\n",
    "\n",
    "<b>Answer 6</b> It should contain 23. Let's check below <br><br>"
   ]
  },
  {
   "cell_type": "code",
   "execution_count": 4,
   "id": "e0de9d97",
   "metadata": {},
   "outputs": [
    {
     "data": {
      "text/plain": [
       "23"
      ]
     },
     "execution_count": 4,
     "metadata": {},
     "output_type": "execute_result"
    }
   ],
   "source": [
    "bacon = 22\n",
    "bacon + 1"
   ]
  },
  {
   "cell_type": "markdown",
   "id": "662231f7",
   "metadata": {},
   "source": [
    "<b>Question 7 </b>What should the values of the following two terms be?<br><br>\n",
    "'spam' + 'spamspam' <br>\n",
    "'spam' * 31 <br><br>\n",
    "\n",
    "<b>Answer 7 </b> In both cases the value should be 'spamspamspam'. Let's check below<br><br>"
   ]
  },
  {
   "cell_type": "code",
   "execution_count": 7,
   "id": "96ad91d3",
   "metadata": {},
   "outputs": [
    {
     "data": {
      "text/plain": [
       "'spamspamspam'"
      ]
     },
     "execution_count": 7,
     "metadata": {},
     "output_type": "execute_result"
    }
   ],
   "source": [
    "'spam' + 'spamspam'"
   ]
  },
  {
   "cell_type": "code",
   "execution_count": 8,
   "id": "603f9bf5",
   "metadata": {},
   "outputs": [
    {
     "data": {
      "text/plain": [
       "'spamspamspam'"
      ]
     },
     "execution_count": 8,
     "metadata": {},
     "output_type": "execute_result"
    }
   ],
   "source": [
    "'spam' * 3"
   ]
  },
  {
   "cell_type": "markdown",
   "id": "40e06e55",
   "metadata": {},
   "source": [
    "<b>Question 8</b> Why is eggs a valid variable name while 100 is invalid?<br><br>\n",
    "\n",
    "\n",
    "<b>Answer 8 </b> According to the Python variables naming conventions a variable name must start with a letter or the underscore character. A variable name cannot start with a number<br><br>"
   ]
  },
  {
   "cell_type": "markdown",
   "id": "dc99d0a6",
   "metadata": {},
   "source": [
    "<b>Question 9</b> What three functions can be used to get the integer, floating-point number, or string version of a value?<br><br>\n",
    "\n",
    "\n",
    "<b>Answer 9 </b> Not sure whetether I understood the question correctly, but I believe that if we have value x, we can get integer by using int(x), floating-point number by using float(x) and string version by using str(x)<br><br>"
   ]
  },
  {
   "cell_type": "markdown",
   "id": "238fdf50",
   "metadata": {},
   "source": [
    "<b>Question 10</b> Why does this expression cause an error? How can you fix it?<br><br>\n",
    "\n",
    "\n",
    "'I have eaten ' + 99 + ' burritos.'<br>\n",
    "\n",
    "<b>Answer 10</b> In Python we can't do addition of different data types. We can fix this statement by transforming 99 into a sting, like '99'. Please, see the solution below<br><br>"
   ]
  },
  {
   "cell_type": "code",
   "execution_count": 10,
   "id": "dfee5470",
   "metadata": {},
   "outputs": [
    {
     "data": {
      "text/plain": [
       "'I have eaten 99 burritos.'"
      ]
     },
     "execution_count": 10,
     "metadata": {},
     "output_type": "execute_result"
    }
   ],
   "source": [
    "'I have eaten ' + '99' + ' burritos.'"
   ]
  },
  {
   "cell_type": "code",
   "execution_count": null,
   "id": "375631d7",
   "metadata": {},
   "outputs": [],
   "source": []
  }
 ],
 "metadata": {
  "kernelspec": {
   "display_name": "Python 3",
   "language": "python",
   "name": "python3"
  },
  "language_info": {
   "codemirror_mode": {
    "name": "ipython",
    "version": 3
   },
   "file_extension": ".py",
   "mimetype": "text/x-python",
   "name": "python",
   "nbconvert_exporter": "python",
   "pygments_lexer": "ipython3",
   "version": "3.8.8"
  }
 },
 "nbformat": 4,
 "nbformat_minor": 5
}
