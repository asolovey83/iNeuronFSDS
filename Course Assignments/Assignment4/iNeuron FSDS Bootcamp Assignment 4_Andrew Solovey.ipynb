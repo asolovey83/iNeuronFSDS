{
 "cells": [
  {
   "cell_type": "markdown",
   "id": "4e407699",
   "metadata": {},
   "source": [
    "## Assignment 4 Andrew Solovey"
   ]
  },
  {
   "cell_type": "markdown",
   "id": "9269c0fb",
   "metadata": {},
   "source": [
    "<b>Question 1:</b> What exactly is []?"
   ]
  },
  {
   "cell_type": "markdown",
   "id": "44bf15c1",
   "metadata": {},
   "source": [
    "<b>Answer 1:</b> [] is an empy list in python"
   ]
  },
  {
   "cell_type": "markdown",
   "id": "f704d987",
   "metadata": {},
   "source": [
    "<b>Question 2:</b> . In a list of values stored in a variable called spam, how would you assign the value 'hello' as the third value? (Assume [2, 4, 6, 8, 10] are in spam.)"
   ]
  },
  {
   "cell_type": "markdown",
   "id": "0691233e",
   "metadata": {},
   "source": [
    "<b>Answer 2:</b> "
   ]
  },
  {
   "cell_type": "code",
   "execution_count": 4,
   "id": "2e59af6d",
   "metadata": {},
   "outputs": [],
   "source": [
    "spam = [2,4,6,8,10]"
   ]
  },
  {
   "cell_type": "code",
   "execution_count": 5,
   "id": "fcb6ac6b",
   "metadata": {},
   "outputs": [],
   "source": [
    "spam[2] = 'hello'"
   ]
  },
  {
   "cell_type": "code",
   "execution_count": 6,
   "id": "030988dc",
   "metadata": {},
   "outputs": [
    {
     "data": {
      "text/plain": [
       "[2, 4, 'hello', 8, 10]"
      ]
     },
     "execution_count": 6,
     "metadata": {},
     "output_type": "execute_result"
    }
   ],
   "source": [
    "spam"
   ]
  },
  {
   "cell_type": "markdown",
   "id": "57103a87",
   "metadata": {},
   "source": [
    "#### Let's pretend the spam includes the list ['a', 'b', 'c', 'd'] for the next three queries."
   ]
  },
  {
   "cell_type": "code",
   "execution_count": 13,
   "id": "e4539c28",
   "metadata": {},
   "outputs": [],
   "source": [
    "spam = ['a', 'b', 'c', 'd'] "
   ]
  },
  {
   "cell_type": "markdown",
   "id": "4fa59022",
   "metadata": {},
   "source": [
    "<b>Question 3:</b> What is the value of spam[int(int('3' * 2) / 11)]?"
   ]
  },
  {
   "cell_type": "markdown",
   "id": "849666a1",
   "metadata": {},
   "source": [
    "<b>Answer 3:</b> 'd'"
   ]
  },
  {
   "cell_type": "markdown",
   "id": "81608d6e",
   "metadata": {},
   "source": [
    "<b>Question 4:</b> What is the value of spam[-1]?"
   ]
  },
  {
   "cell_type": "markdown",
   "id": "53345549",
   "metadata": {},
   "source": [
    "<b>Answer 4:</b> 'd'"
   ]
  },
  {
   "cell_type": "markdown",
   "id": "b6aa1566",
   "metadata": {},
   "source": [
    "<b>Question 5:</b> What is the value of spam[:2]?"
   ]
  },
  {
   "cell_type": "markdown",
   "id": "3080a7fc",
   "metadata": {},
   "source": [
    "<b>Answer 5:</b> ['a', 'b']"
   ]
  },
  {
   "cell_type": "markdown",
   "id": "83dbfd90",
   "metadata": {},
   "source": [
    "#### Let's pretend bacon has the list [3.14, 'cat,' 11, 'cat,' True] for the next three questions"
   ]
  },
  {
   "cell_type": "code",
   "execution_count": 26,
   "id": "c29ce0d4",
   "metadata": {},
   "outputs": [],
   "source": [
    "bacon = [3.14, 'cat', 11, 'cat', True]"
   ]
  },
  {
   "cell_type": "markdown",
   "id": "94c6354f",
   "metadata": {},
   "source": [
    "<b>Question 6:</b>What is the value of bacon.index('cat')?"
   ]
  },
  {
   "cell_type": "markdown",
   "id": "a62fe167",
   "metadata": {},
   "source": [
    "<b>Answer 6:</b> 1"
   ]
  },
  {
   "cell_type": "markdown",
   "id": "9edd4d45",
   "metadata": {},
   "source": [
    "<b>Question 7:</b> How does bacon.append(99) change the look of the list value in bacon?"
   ]
  },
  {
   "cell_type": "markdown",
   "id": "6694b219",
   "metadata": {},
   "source": [
    "<b>Answer 7:</b> There will be a new element 99 added to the end of the list bacon = [3.14, 'cat', 11, 'cat', True, 99]"
   ]
  },
  {
   "cell_type": "markdown",
   "id": "28e2ae31",
   "metadata": {},
   "source": [
    "<b>Question 8:</b> How does bacon.remove('cat') change the look of the list in bacon?"
   ]
  },
  {
   "cell_type": "markdown",
   "id": "853e122b",
   "metadata": {},
   "source": [
    "<b>Answer 8:</b> This command will remove the first occurence of 'cat' element bacon = [3.14, 11, 'cat', True]"
   ]
  },
  {
   "cell_type": "markdown",
   "id": "6c29422e",
   "metadata": {},
   "source": [
    "<b>Question 9:</b> What are the list concatenation and list replication operators?"
   ]
  },
  {
   "cell_type": "markdown",
   "id": "8e5a6f9d",
   "metadata": {},
   "source": [
    "<b>Answer 9:</b> List concatenation operator is '+', list replication operator is '*'"
   ]
  },
  {
   "cell_type": "markdown",
   "id": "e1fe1e37",
   "metadata": {},
   "source": [
    "<b>Question 10:</b> What is difference between the list methods append() and insert()?"
   ]
  },
  {
   "cell_type": "markdown",
   "id": "ce72af88",
   "metadata": {},
   "source": [
    "<b>Answer 10:</b> The **append()** method adds item (or list of items) to the end of the list. The **insert()** method inserts an element to the list at the specified index"
   ]
  },
  {
   "cell_type": "markdown",
   "id": "c755cc9b",
   "metadata": {},
   "source": [
    "<b>Question 11:</b> What are the two methods for removing items from a list?"
   ]
  },
  {
   "cell_type": "markdown",
   "id": "d1b437a6",
   "metadata": {},
   "source": [
    "<b>Answer 11:</b> These methods are **remove()** and **pop()**"
   ]
  },
  {
   "cell_type": "markdown",
   "id": "e6bf6b45",
   "metadata": {},
   "source": [
    "<b>Question 12:</b> Describe how list values and string values are identical"
   ]
  },
  {
   "cell_type": "markdown",
   "id": "f158dd2b",
   "metadata": {},
   "source": [
    "<b>Answer 12:</b> We can access each item of the list and each character of the string by its index. Also we can perform slicing operations both on list elements and string characters"
   ]
  },
  {
   "cell_type": "markdown",
   "id": "61f349c5",
   "metadata": {},
   "source": [
    "<b>Question 13:</b> What's the difference between tuples and lists?"
   ]
  },
  {
   "cell_type": "markdown",
   "id": "db8059bc",
   "metadata": {},
   "source": [
    "<b>Answer 13:</b> The main difference between tuples and lists is that tuples are immutable, they can`t be modified, and lists can be modified. It means that we can add, remove or insert new items into the list. All these options are not available in case of tuple"
   ]
  },
  {
   "cell_type": "markdown",
   "id": "65a559bb",
   "metadata": {},
   "source": [
    "<b>Question 14:</b> How do you type a tuple value that only contains the integer 42?"
   ]
  },
  {
   "cell_type": "markdown",
   "id": "191197c3",
   "metadata": {},
   "source": [
    "<b>Answer 14:</b> (42,)"
   ]
  },
  {
   "cell_type": "markdown",
   "id": "0552042c",
   "metadata": {},
   "source": [
    "<b>Question 15:</b> How do you get a list value's tuple form? How do you get a tuple value's list form?"
   ]
  },
  {
   "cell_type": "markdown",
   "id": "651972ca",
   "metadata": {},
   "source": [
    "<b>Answer 15:</b> "
   ]
  },
  {
   "cell_type": "code",
   "execution_count": 7,
   "id": "88a7ce97",
   "metadata": {},
   "outputs": [
    {
     "data": {
      "text/plain": [
       "(1, 2, 3, 4)"
      ]
     },
     "execution_count": 7,
     "metadata": {},
     "output_type": "execute_result"
    }
   ],
   "source": [
    "# List values`s tuple form\n",
    "l = [1,2,3,4]\n",
    "tuple(l)"
   ]
  },
  {
   "cell_type": "code",
   "execution_count": 8,
   "id": "d5ff6475",
   "metadata": {},
   "outputs": [
    {
     "data": {
      "text/plain": [
       "[1, 2, 3, 4]"
      ]
     },
     "execution_count": 8,
     "metadata": {},
     "output_type": "execute_result"
    }
   ],
   "source": [
    "Tuple value`s list form\n",
    "t = (1,2,3,4)\n",
    "list(t)"
   ]
  },
  {
   "cell_type": "markdown",
   "id": "537d6e30",
   "metadata": {},
   "source": [
    "<b>Question 16:</b> Variables that \"contain\" list values are not necessarily lists themselves. Instead, what do they contain?"
   ]
  },
  {
   "cell_type": "markdown",
   "id": "da894c81",
   "metadata": {},
   "source": [
    "<b>Answer 16:</b> They contain references to the memory cells containing list values"
   ]
  },
  {
   "cell_type": "markdown",
   "id": "fa38d1c6",
   "metadata": {},
   "source": [
    "<b>Question 17:</b> How do you distinguish between copy.copy() and copy.deepcopy()?"
   ]
  },
  {
   "cell_type": "markdown",
   "id": "6c8549cd",
   "metadata": {},
   "source": [
    "<b>Answer 17:</b> copy.copy() creates reference to the original object. In case of changing the copied object, the original object *copy* also will be changed.  deepcopy() instead creates new object and does real copying of original object to a new one. In case of changing the \"deepcopied\" object the original object won`t be affected"
   ]
  },
  {
   "cell_type": "code",
   "execution_count": null,
   "id": "c690552b",
   "metadata": {},
   "outputs": [],
   "source": []
  }
 ],
 "metadata": {
  "kernelspec": {
   "display_name": "Python 3",
   "language": "python",
   "name": "python3"
  },
  "language_info": {
   "codemirror_mode": {
    "name": "ipython",
    "version": 3
   },
   "file_extension": ".py",
   "mimetype": "text/x-python",
   "name": "python",
   "nbconvert_exporter": "python",
   "pygments_lexer": "ipython3",
   "version": "3.8.8"
  }
 },
 "nbformat": 4,
 "nbformat_minor": 5
}
